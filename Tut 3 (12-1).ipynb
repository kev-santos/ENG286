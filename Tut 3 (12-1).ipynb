{
 "cells": [
  {
   "cell_type": "code",
   "execution_count": null,
   "id": "f338425c",
   "metadata": {},
   "outputs": [],
   "source": [
    "\"star\" <= \"arts\""
   ]
  },
  {
   "cell_type": "code",
   "execution_count": null,
   "id": "05a11b70",
   "metadata": {},
   "outputs": [],
   "source": []
  },
  {
   "cell_type": "markdown",
   "id": "dc3df84f",
   "metadata": {},
   "source": [
    "# Indexing/Slicing Strings"
   ]
  },
  {
   "cell_type": "code",
   "execution_count": 11,
   "id": "94c77382",
   "metadata": {},
   "outputs": [],
   "source": [
    "quote = \"No ideas but in things.\" # - William Carlos Williams"
   ]
  },
  {
   "cell_type": "markdown",
   "id": "dd546699",
   "metadata": {},
   "source": [
    "How many characters are in quote?"
   ]
  },
  {
   "cell_type": "code",
   "execution_count": 12,
   "id": "a944ceb1",
   "metadata": {},
   "outputs": [
    {
     "data": {
      "text/plain": [
       "23"
      ]
     },
     "execution_count": 12,
     "metadata": {},
     "output_type": "execute_result"
    }
   ],
   "source": [
    "len(quote)"
   ]
  },
  {
   "cell_type": "markdown",
   "id": "6ba8172b",
   "metadata": {},
   "source": [
    "Index the quote to get the following:"
   ]
  },
  {
   "cell_type": "code",
   "execution_count": 14,
   "id": "3815ea51",
   "metadata": {},
   "outputs": [
    {
     "data": {
      "text/plain": [
       "'u'"
      ]
     },
     "execution_count": 14,
     "metadata": {},
     "output_type": "execute_result"
    }
   ],
   "source": [
    "# A string containing the 10th character\n",
    "quote[10]"
   ]
  },
  {
   "cell_type": "code",
   "execution_count": 16,
   "id": "12127035",
   "metadata": {},
   "outputs": [
    {
     "data": {
      "text/plain": [
       "'ideas'"
      ]
     },
     "execution_count": 16,
     "metadata": {},
     "output_type": "execute_result"
    }
   ],
   "source": [
    "# A string containing the word \"ideas\"\n",
    "quote[3:8]"
   ]
  },
  {
   "cell_type": "code",
   "execution_count": 15,
   "id": "41a479da",
   "metadata": {},
   "outputs": [
    {
     "data": {
      "text/plain": [
       "'.'"
      ]
     },
     "execution_count": 15,
     "metadata": {},
     "output_type": "execute_result"
    }
   ],
   "source": [
    "# A string containing the period (two different ways!)\n",
    "quote[-1]"
   ]
  },
  {
   "cell_type": "markdown",
   "id": "e71b9e26",
   "metadata": {},
   "source": [
    "What happens if we try to break it?"
   ]
  },
  {
   "cell_type": "code",
   "execution_count": 17,
   "id": "f3ae0409",
   "metadata": {
    "scrolled": true
   },
   "outputs": [
    {
     "data": {
      "text/plain": [
       "''"
      ]
     },
     "execution_count": 17,
     "metadata": {},
     "output_type": "execute_result"
    }
   ],
   "source": [
    "quote[3:3]"
   ]
  },
  {
   "cell_type": "code",
   "execution_count": 18,
   "id": "80eef98b",
   "metadata": {},
   "outputs": [
    {
     "data": {
      "text/plain": [
       "''"
      ]
     },
     "execution_count": 18,
     "metadata": {},
     "output_type": "execute_result"
    }
   ],
   "source": [
    "quote[3:2]"
   ]
  },
  {
   "cell_type": "markdown",
   "id": "67ad0357",
   "metadata": {},
   "source": [
    "# Opening files \n",
    "\n",
    "To open a text file and assign its contents (in a single string) to a variable:\n",
    "\n",
    "`file_name = open(\"file.txt\", encoding=\"utf-8\").read()`"
   ]
  },
  {
   "cell_type": "code",
   "execution_count": 20,
   "id": "e040179f",
   "metadata": {
    "scrolled": false
   },
   "outputs": [
    {
     "name": "stdout",
     "output_type": "stream",
     "text": [
      "I celebrate myself, and sing myself,\n",
      "And what I assume you shall assume,\n",
      "For every atom belonging to me as good belongs to you.\n",
      "\n",
      "I loafe and invite my soul,\n",
      "I lean and loafe at my ease observing a spear of summer grass.\n",
      "\n",
      "My tongue, every atom of my blood, form’d from this soil, this air,\n",
      "Born here of parents born here from parents the same, and their parents the same,\n",
      "I, now thirty-seven years old in perfect health begin,\n",
      "Hoping to cease not till death.\n",
      "\n",
      "Creeds and schools in abeyance,\n",
      "Retiring back a while sufficed at what they are, but never forgotten,\n",
      "I harbor for good or bad, I permit to speak at every hazard,\n",
      "Nature without check with original energy.\n",
      "\n"
     ]
    }
   ],
   "source": [
    "# What's wrong with the following?:\n",
    "\n",
    "song_of_myself = open(\"song_of_myself.txt\", encoding=\"utf-8\").read()\n",
    "print(song_of_myself)"
   ]
  },
  {
   "cell_type": "code",
   "execution_count": 27,
   "id": "677e8cb7",
   "metadata": {},
   "outputs": [
    {
     "data": {
      "text/plain": [
       "'I celebrate myself, and sing myself,\\nAnd what I assume you shall assume,\\nFor every atom belonging to me as good belongs to you.\\n\\nI loafe and invite my soul,\\nI lean and loafe at my ease observing a spear of summer grass.\\n\\nMy tongue, every atom of my blood, form’d from this soil, this air,\\nBorn here of parents born here from parents the same, and their parents the same,\\nI, now thirty-seven years old in perfect health begin,\\nHoping to cease not till death.\\n\\nCreeds and schools in abeyance,\\nRetiring back a while sufficed at what they are, but never forgotten,\\nI harbor for good or bad, I permit to speak at every hazard,\\nNature without check with original energy.\\n'"
      ]
     },
     "execution_count": 27,
     "metadata": {},
     "output_type": "execute_result"
    }
   ],
   "source": [
    "song_of_myself"
   ]
  },
  {
   "cell_type": "markdown",
   "id": "8d2cd32f",
   "metadata": {},
   "source": [
    "# String methods\n",
    "\n",
    "Applying a method to string usually does not alter the contents of the string itself.\n",
    "\n",
    "String methods can return different data types. You can then assign the output of a method to a variable."
   ]
  },
  {
   "cell_type": "code",
   "execution_count": 26,
   "id": "99afb25c",
   "metadata": {},
   "outputs": [
    {
     "name": "stdout",
     "output_type": "stream",
     "text": [
      "I CELEBRATE MYSELF, AND SING MYSELF,\n",
      "AND WHAT I ASSUME YOU SHALL ASSUME,\n",
      "FOR EVERY ATOM BELONGING TO ME AS GOOD BELONGS TO YOU.\n",
      "\n",
      "I LOAFE AND INVITE MY SOUL,\n",
      "I LEAN AND LOAFE AT MY EASE OBSERVING A SPEAR OF SUMMER GRASS.\n",
      "\n",
      "MY TONGUE, EVERY ATOM OF MY BLOOD, FORM’D FROM THIS SOIL, THIS AIR,\n",
      "BORN HERE OF PARENTS BORN HERE FROM PARENTS THE SAME, AND THEIR PARENTS THE SAME,\n",
      "I, NOW THIRTY-SEVEN YEARS OLD IN PERFECT HEALTH BEGIN,\n",
      "HOPING TO CEASE NOT TILL DEATH.\n",
      "\n",
      "CREEDS AND SCHOOLS IN ABEYANCE,\n",
      "RETIRING BACK A WHILE SUFFICED AT WHAT THEY ARE, BUT NEVER FORGOTTEN,\n",
      "I HARBOR FOR GOOD OR BAD, I PERMIT TO SPEAK AT EVERY HAZARD,\n",
      "NATURE WITHOUT CHECK WITH ORIGINAL ENERGY.\n",
      "\n"
     ]
    }
   ],
   "source": [
    "song_of_myself_upper = song_of_myself.upper()\n",
    "print(song_of_myself_upper)"
   ]
  },
  {
   "cell_type": "code",
   "execution_count": 23,
   "id": "a984bd88",
   "metadata": {},
   "outputs": [
    {
     "data": {
      "text/plain": [
       "['I celebrate myself, and sing myself,',\n",
       " 'And what I assume you shall assume,',\n",
       " 'For every atom belonging to me as good belongs to you.',\n",
       " '',\n",
       " 'I loafe and invite my soul,',\n",
       " 'I lean and loafe at my ease observing a spear of summer grass.',\n",
       " '',\n",
       " 'My tongue, every atom of my blood, form’d from this soil, this air,',\n",
       " 'Born here of parents born here from parents the same, and their parents the same,',\n",
       " 'I, now thirty-seven years old in perfect health begin,',\n",
       " 'Hoping to cease not till death.',\n",
       " '',\n",
       " 'Creeds and schools in abeyance,',\n",
       " 'Retiring back a while sufficed at what they are, but never forgotten,',\n",
       " 'I harbor for good or bad, I permit to speak at every hazard,',\n",
       " 'Nature without check with original energy.',\n",
       " '']"
      ]
     },
     "execution_count": 23,
     "metadata": {},
     "output_type": "execute_result"
    }
   ],
   "source": [
    "song_of_myself.split(\"\\n\")"
   ]
  },
  {
   "cell_type": "code",
   "execution_count": 24,
   "id": "6f77c17f",
   "metadata": {},
   "outputs": [
    {
     "data": {
      "text/plain": [
       "False"
      ]
     },
     "execution_count": 24,
     "metadata": {},
     "output_type": "execute_result"
    }
   ],
   "source": [
    "song_of_myself.isalpha()"
   ]
  },
  {
   "cell_type": "markdown",
   "id": "ebaea2d3",
   "metadata": {},
   "source": [
    "# Lists and list methods\n",
    "\n",
    "Lists can contain any data type!"
   ]
  },
  {
   "cell_type": "code",
   "execution_count": 29,
   "id": "f4da9b83",
   "metadata": {},
   "outputs": [],
   "source": [
    "random_list = [2, True, 4.0, \"cat\", [\"pencil\", \"paper\", \"pen\"], [2, 3, 5, 7, 11]]"
   ]
  },
  {
   "cell_type": "code",
   "execution_count": null,
   "id": "9351fbfc",
   "metadata": {},
   "outputs": [],
   "source": []
  },
  {
   "cell_type": "code",
   "execution_count": 31,
   "id": "b4e88d12",
   "metadata": {},
   "outputs": [
    {
     "data": {
      "text/plain": [
       "4.0"
      ]
     },
     "execution_count": 31,
     "metadata": {},
     "output_type": "execute_result"
    }
   ],
   "source": [
    "# Index the list to get 4.0\n",
    "random_list[2]"
   ]
  },
  {
   "cell_type": "code",
   "execution_count": 32,
   "id": "7bb62beb",
   "metadata": {},
   "outputs": [
    {
     "data": {
      "text/plain": [
       "['pencil', 'paper', 'pen']"
      ]
     },
     "execution_count": 32,
     "metadata": {},
     "output_type": "execute_result"
    }
   ],
   "source": [
    "# Index the list to get []\n",
    "random_list[4]"
   ]
  },
  {
   "cell_type": "code",
   "execution_count": 33,
   "id": "2679c351",
   "metadata": {},
   "outputs": [
    {
     "data": {
      "text/plain": [
       "'paper'"
      ]
     },
     "execution_count": 33,
     "metadata": {},
     "output_type": "execute_result"
    }
   ],
   "source": [
    "# Index the list to get \"paper\"\n",
    "random_list[4][1]"
   ]
  },
  {
   "cell_type": "code",
   "execution_count": 34,
   "id": "6eeb3389",
   "metadata": {},
   "outputs": [
    {
     "data": {
      "text/plain": [
       "6"
      ]
     },
     "execution_count": 34,
     "metadata": {},
     "output_type": "execute_result"
    }
   ],
   "source": [
    "# How many items are in this list?\n",
    "len(random_list)"
   ]
  },
  {
   "cell_type": "code",
   "execution_count": 37,
   "id": "f1dc29ac",
   "metadata": {},
   "outputs": [],
   "source": [
    "drinks_list = [\"Water\", \"Tea\", \"Coffee\", \"Juice\", \"Coke\", \"Sprite\"]"
   ]
  },
  {
   "cell_type": "markdown",
   "id": "b1794eb8",
   "metadata": {},
   "source": [
    "Applying a method to a list may alter the contents of the list."
   ]
  },
  {
   "cell_type": "code",
   "execution_count": 38,
   "id": "d2941cde",
   "metadata": {},
   "outputs": [
    {
     "name": "stdout",
     "output_type": "stream",
     "text": [
      "['Water', 'Tea', 'Coffee', 'Juice', 'Coke', 'Sprite', 'Vodka']\n"
     ]
    }
   ],
   "source": [
    "drinks_list.append(\"Vodka\")\n",
    "print(drinks_list)"
   ]
  },
  {
   "cell_type": "code",
   "execution_count": 39,
   "id": "5bbcc8b2",
   "metadata": {},
   "outputs": [
    {
     "name": "stdout",
     "output_type": "stream",
     "text": [
      "None\n"
     ]
    }
   ],
   "source": [
    "drinks_list = drinks_list.append(\"Milk\")\n",
    "print(drinks_list)\n",
    "\n",
    "# What does append do? What does it return?"
   ]
  },
  {
   "cell_type": "markdown",
   "id": "0340160b",
   "metadata": {},
   "source": [
    "Lists are **mutable**!!\n",
    "\n",
    "Strings are **immutable**!!"
   ]
  },
  {
   "cell_type": "code",
   "execution_count": null,
   "id": "6901edb1",
   "metadata": {},
   "outputs": [],
   "source": [
    "# Replace \"Tea\" in drinks_list with \"Iced Tea\"\n",
    "drinks_list[1] = \"Iced Tea\""
   ]
  },
  {
   "cell_type": "code",
   "execution_count": null,
   "id": "2c416ddc",
   "metadata": {},
   "outputs": [],
   "source": [
    "# Replace \"pen\" in random_list with \"crayon\""
   ]
  },
  {
   "cell_type": "code",
   "execution_count": null,
   "id": "c847093f",
   "metadata": {},
   "outputs": [],
   "source": [
    "# What happens to strings?\n",
    "quote[11] = 'x'"
   ]
  }
 ],
 "metadata": {
  "kernelspec": {
   "display_name": "Python 3 (ipykernel)",
   "language": "python",
   "name": "python3"
  },
  "language_info": {
   "codemirror_mode": {
    "name": "ipython",
    "version": 3
   },
   "file_extension": ".py",
   "mimetype": "text/x-python",
   "name": "python",
   "nbconvert_exporter": "python",
   "pygments_lexer": "ipython3",
   "version": "3.10.8"
  }
 },
 "nbformat": 4,
 "nbformat_minor": 5
}

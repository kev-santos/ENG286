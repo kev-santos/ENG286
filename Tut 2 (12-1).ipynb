{
 "cells": [
  {
   "cell_type": "markdown",
   "id": "615ac4ee",
   "metadata": {},
   "source": [
    "# Variables\n",
    "\n",
    "Variables consist of two pieces of information: a **name** and a **value**. "
   ]
  },
  {
   "cell_type": "code",
   "execution_count": 4,
   "id": "ccf70298",
   "metadata": {},
   "outputs": [],
   "source": [
    "number1 = 5"
   ]
  },
  {
   "cell_type": "markdown",
   "id": "9c25441c",
   "metadata": {},
   "source": [
    "In the above code, we **assign** the value 5 to a variable whose **name** is `number`. This is called an **assignment statement**. Note that an assignment statement does not produce any output. "
   ]
  },
  {
   "cell_type": "markdown",
   "id": "dc1db48f",
   "metadata": {},
   "source": [
    "In an assignment statement, Python evaluates the expression to the right of the `=` before assigning it."
   ]
  },
  {
   "cell_type": "code",
   "execution_count": 5,
   "id": "f1051b43",
   "metadata": {},
   "outputs": [],
   "source": [
    "number2 = 10 * 10"
   ]
  },
  {
   "cell_type": "markdown",
   "id": "9c80749b",
   "metadata": {},
   "source": [
    "To check the contents of a given variable, we can use the function `print`. "
   ]
  },
  {
   "cell_type": "code",
   "execution_count": 15,
   "id": "4996e3bb",
   "metadata": {},
   "outputs": [
    {
     "name": "stdout",
     "output_type": "stream",
     "text": [
      "100\n"
     ]
    }
   ],
   "source": [
    "print(number2)"
   ]
  },
  {
   "cell_type": "markdown",
   "id": "b53356ef",
   "metadata": {},
   "source": [
    "## Word of Caution! Re-assigning Variables\n",
    "\n",
    "Python does not give an error if you try to assign a new value to a variable with an existing name. Make sure you don't accidentally reuse or reassign existing variables!"
   ]
  },
  {
   "cell_type": "markdown",
   "id": "092fa0d5",
   "metadata": {},
   "source": [
    "## Naming Variables\n",
    "Python variables are usually written in \"`snake_case`\" or \"`pothole_case`\", i.e. in all lowercase with underscores separating words. You should try to make sure your variable names are descriptive, so that you can easily keep track of them. `number` isn't generally a good variable name, but `average_words` might be. "
   ]
  },
  {
   "cell_type": "markdown",
   "id": "951e8e9f",
   "metadata": {},
   "source": [
    "## Example/Exercise: Area of a Triangle"
   ]
  },
  {
   "cell_type": "code",
   "execution_count": 13,
   "id": "1ab4cb67",
   "metadata": {},
   "outputs": [],
   "source": [
    "base = 10\n",
    "height = 6\n",
    "area = (base * height) / 2\n",
    "height = 30\n",
    "area2 = (base * height) / 2"
   ]
  },
  {
   "cell_type": "code",
   "execution_count": 15,
   "id": "ea3293a3",
   "metadata": {},
   "outputs": [
    {
     "name": "stdout",
     "output_type": "stream",
     "text": [
      "30.0\n",
      "150.0\n"
     ]
    }
   ],
   "source": [
    "print(area)\n",
    "print(area2)"
   ]
  },
  {
   "cell_type": "markdown",
   "id": "7b417202",
   "metadata": {},
   "source": [
    "# Types\n",
    "The main data types we will deal with include \n",
    "- integers `int` (whole numbers)\n",
    "- floats `float` (decimals) \n",
    "- strings `str` (pieces of text) \n",
    "- booleans `bool` (True or False values) "
   ]
  },
  {
   "cell_type": "markdown",
   "id": "88030a09",
   "metadata": {},
   "source": [
    "# Functions\n",
    "\n",
    "You can think of functions as transitive verbs that take an object (as an input) and act on it (to produce an output).\n",
    "\n",
    "A function takes an **argument** as an input and produces an output. The syntax is `function(argument)`. \n",
    "\n",
    "<img src=\"function_machine.png\" width=\"300\">\n",
    "\n",
    "Pro-tip: Python evaluates the arguments before applying the function. "
   ]
  },
  {
   "cell_type": "code",
   "execution_count": 17,
   "id": "37204e24",
   "metadata": {},
   "outputs": [
    {
     "data": {
      "text/plain": [
       "int"
      ]
     },
     "execution_count": 17,
     "metadata": {},
     "output_type": "execute_result"
    }
   ],
   "source": [
    "type(80)"
   ]
  },
  {
   "cell_type": "code",
   "execution_count": 19,
   "id": "7f524f23",
   "metadata": {},
   "outputs": [
    {
     "data": {
      "text/plain": [
       "26"
      ]
     },
     "execution_count": 19,
     "metadata": {},
     "output_type": "execute_result"
    }
   ],
   "source": [
    "round(13.1 + 12.5)"
   ]
  },
  {
   "cell_type": "code",
   "execution_count": 21,
   "id": "df353714",
   "metadata": {},
   "outputs": [
    {
     "data": {
      "text/plain": [
       "9"
      ]
     },
     "execution_count": 21,
     "metadata": {},
     "output_type": "execute_result"
    }
   ],
   "source": [
    "number = 3.14\n",
    "number2 = 6.32\n",
    "round(number + number2)"
   ]
  },
  {
   "cell_type": "code",
   "execution_count": null,
   "id": "ee34a5d2",
   "metadata": {},
   "outputs": [],
   "source": [
    "str()"
   ]
  },
  {
   "cell_type": "code",
   "execution_count": null,
   "id": "204c1fc7",
   "metadata": {},
   "outputs": [],
   "source": []
  },
  {
   "cell_type": "markdown",
   "id": "b8d54a4d",
   "metadata": {},
   "source": [
    "# Operators\n",
    "\n"
   ]
  },
  {
   "cell_type": "markdown",
   "id": "dc2a601b",
   "metadata": {},
   "source": [
    "Like functions, operators take inputs and produce outputs. However, the syntax is a bit different. The inputs go on either side of the operator, such as `2 + 2`. \n",
    "\n",
    "We have seen mathematical operators, which take in numbers and output numbers, but the **comparison operators** are also important:\n",
    "- `==`\n",
    "- `!=`\n",
    "- `>`\n",
    "- `<`\n",
    "- `>=`\n",
    "- `<=`\n",
    "\n",
    "It is important to understand the difference between `=` and `==`. `=` is used to assign a variable, but `==` is used to check if two things are the same. \n",
    "\n",
    "An assignment statement with `=` does not produce an output, but a comparison statement with `==` does. \n",
    "\n",
    "As with functions, Python evaluates both sides of the operator before applying the operator. "
   ]
  },
  {
   "cell_type": "code",
   "execution_count": 22,
   "id": "0bc6b34d",
   "metadata": {},
   "outputs": [
    {
     "data": {
      "text/plain": [
       "True"
      ]
     },
     "execution_count": 22,
     "metadata": {},
     "output_type": "execute_result"
    }
   ],
   "source": [
    "\"name\" == \"name\""
   ]
  },
  {
   "cell_type": "code",
   "execution_count": 29,
   "id": "430779e4",
   "metadata": {},
   "outputs": [
    {
     "data": {
      "text/plain": [
       "True"
      ]
     },
     "execution_count": 29,
     "metadata": {},
     "output_type": "execute_result"
    }
   ],
   "source": [
    "word = \"word\"\n",
    "word == \"word\""
   ]
  },
  {
   "cell_type": "code",
   "execution_count": 1,
   "id": "668a94bb",
   "metadata": {},
   "outputs": [
    {
     "data": {
      "text/plain": [
       "False"
      ]
     },
     "execution_count": 1,
     "metadata": {},
     "output_type": "execute_result"
    }
   ],
   "source": [
    "80 == \"80\""
   ]
  },
  {
   "cell_type": "code",
   "execution_count": 33,
   "id": "d9066028",
   "metadata": {
    "scrolled": true
   },
   "outputs": [
    {
     "data": {
      "text/plain": [
       "False"
      ]
     },
     "execution_count": 33,
     "metadata": {},
     "output_type": "execute_result"
    }
   ],
   "source": [
    "80 == \"eighty\""
   ]
  },
  {
   "cell_type": "code",
   "execution_count": 31,
   "id": "1e07c2be",
   "metadata": {},
   "outputs": [
    {
     "data": {
      "text/plain": [
       "int"
      ]
     },
     "execution_count": 31,
     "metadata": {},
     "output_type": "execute_result"
    }
   ],
   "source": [
    "type(80)"
   ]
  },
  {
   "cell_type": "code",
   "execution_count": 34,
   "id": "03dab3a1",
   "metadata": {},
   "outputs": [
    {
     "data": {
      "text/plain": [
       "str"
      ]
     },
     "execution_count": 34,
     "metadata": {},
     "output_type": "execute_result"
    }
   ],
   "source": [
    "type(\"eighty\")"
   ]
  },
  {
   "cell_type": "code",
   "execution_count": 35,
   "id": "0e5fba40",
   "metadata": {},
   "outputs": [
    {
     "data": {
      "text/plain": [
       "False"
      ]
     },
     "execution_count": 35,
     "metadata": {},
     "output_type": "execute_result"
    }
   ],
   "source": [
    "True == \"True\""
   ]
  },
  {
   "cell_type": "code",
   "execution_count": 36,
   "id": "418ab859",
   "metadata": {},
   "outputs": [
    {
     "data": {
      "text/plain": [
       "bool"
      ]
     },
     "execution_count": 36,
     "metadata": {},
     "output_type": "execute_result"
    }
   ],
   "source": [
    "type(True)"
   ]
  },
  {
   "cell_type": "code",
   "execution_count": null,
   "id": "7d681742",
   "metadata": {},
   "outputs": [],
   "source": [
    "\"star\" == \"star\""
   ]
  },
  {
   "cell_type": "code",
   "execution_count": null,
   "id": "fd97891a",
   "metadata": {},
   "outputs": [],
   "source": [
    "\"star\" >= \"arts\""
   ]
  }
 ],
 "metadata": {
  "kernelspec": {
   "display_name": "Python 3 (ipykernel)",
   "language": "python",
   "name": "python3"
  },
  "language_info": {
   "codemirror_mode": {
    "name": "ipython",
    "version": 3
   },
   "file_extension": ".py",
   "mimetype": "text/x-python",
   "name": "python",
   "nbconvert_exporter": "python",
   "pygments_lexer": "ipython3",
   "version": "3.10.8"
  }
 },
 "nbformat": 4,
 "nbformat_minor": 5
}

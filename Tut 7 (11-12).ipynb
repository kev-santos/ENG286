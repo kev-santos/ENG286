{
 "cells": [
  {
   "cell_type": "markdown",
   "id": "24e1ee0d",
   "metadata": {},
   "source": [
    "# Pandas"
   ]
  },
  {
   "cell_type": "code",
   "execution_count": 2,
   "id": "884f931d",
   "metadata": {},
   "outputs": [],
   "source": [
    "import pandas as pd"
   ]
  },
  {
   "cell_type": "markdown",
   "id": "9a8bae72",
   "metadata": {},
   "source": [
    "(Tip: make your own list of common pieces of code and syntax so you can easily refer to it, like a cheat sheet.)\n",
    "\n",
    "https://melaniewalsh.github.io/Intro-Cultural-Analytics/03-Data-Analysis/01-Pandas-Basics-Part1.html\n",
    "\n",
    "https://www.w3schools.com/python/pandas/pandas_ref_dataframe.asp"
   ]
  },
  {
   "cell_type": "markdown",
   "id": "6c51484e",
   "metadata": {},
   "source": [
    "## Creating a variable for a file as a dataframe"
   ]
  },
  {
   "cell_type": "markdown",
   "id": "59a916e8",
   "metadata": {},
   "source": [
    "The two pieces of code below each have an error."
   ]
  },
  {
   "cell_type": "code",
   "execution_count": 8,
   "id": "6a5cb164",
   "metadata": {},
   "outputs": [],
   "source": [
    "checkouts_df = read_csv('seattle_checkouts.tsv')"
   ]
  },
  {
   "cell_type": "code",
   "execution_count": 7,
   "id": "935979c5",
   "metadata": {},
   "outputs": [],
   "source": [
    "checkouts_df = pd.read_csv('seattle_checkouts.tsv')"
   ]
  },
  {
   "cell_type": "code",
   "execution_count": 13,
   "id": "6a76ef8e",
   "metadata": {},
   "outputs": [],
   "source": []
  },
  {
   "cell_type": "markdown",
   "id": "50cbecac",
   "metadata": {},
   "source": [
    "## Selecting Columns"
   ]
  },
  {
   "cell_type": "code",
   "execution_count": 25,
   "id": "35542c4e",
   "metadata": {
    "scrolled": true
   },
   "outputs": [],
   "source": [
    "checkouts_df"
   ]
  },
  {
   "cell_type": "markdown",
   "id": "283ef72e",
   "metadata": {},
   "source": [
    "Correct the error below."
   ]
  },
  {
   "cell_type": "code",
   "execution_count": 24,
   "id": "f23c6f2a",
   "metadata": {},
   "outputs": [],
   "source": [
    "checkouts_df[[\"checkouts\", \"creator\"]]"
   ]
  },
  {
   "cell_type": "markdown",
   "id": "eb563343",
   "metadata": {},
   "source": [
    "## Counting values in a dataframe"
   ]
  },
  {
   "cell_type": "markdown",
   "id": "e88f50ae",
   "metadata": {},
   "source": [
    "Modify the line below to find the 10 most common publication years among the items checked out."
   ]
  },
  {
   "cell_type": "code",
   "execution_count": 21,
   "id": "e03631a6",
   "metadata": {},
   "outputs": [],
   "source": [
    "nyt_df['title'].value_counts()"
   ]
  },
  {
   "cell_type": "code",
   "execution_count": null,
   "id": "f21a648f",
   "metadata": {},
   "outputs": [],
   "source": []
  },
  {
   "cell_type": "markdown",
   "id": "42e90923",
   "metadata": {},
   "source": [
    "## Using `.describe()`"
   ]
  },
  {
   "cell_type": "markdown",
   "id": "6e44edfc",
   "metadata": {},
   "source": [
    "Try to interpret what each of the rows in the table means."
   ]
  },
  {
   "cell_type": "code",
   "execution_count": 20,
   "id": "dd25db88",
   "metadata": {
    "scrolled": false
   },
   "outputs": [],
   "source": [
    "checkouts_df.describe(include=\"all\")"
   ]
  },
  {
   "cell_type": "markdown",
   "id": "c25665e5",
   "metadata": {},
   "source": [
    "How does the output differ when using different parameters?"
   ]
  },
  {
   "cell_type": "code",
   "execution_count": 17,
   "id": "ed55ec0e",
   "metadata": {},
   "outputs": [],
   "source": [
    "checkouts_df[:10]"
   ]
  },
  {
   "cell_type": "code",
   "execution_count": 18,
   "id": "931c00d3",
   "metadata": {
    "scrolled": false
   },
   "outputs": [],
   "source": [
    "checkouts_df.describe(include=\"object\")"
   ]
  },
  {
   "cell_type": "code",
   "execution_count": 19,
   "id": "c3c1876d",
   "metadata": {
    "scrolled": false
   },
   "outputs": [],
   "source": [
    "checkouts_df.describe(include=\"int64\")"
   ]
  },
  {
   "cell_type": "code",
   "execution_count": null,
   "id": "b1fe03f5",
   "metadata": {},
   "outputs": [],
   "source": [
    "# What if I try this?\n",
    "checkouts_df.describe(include=\"Creator\")"
   ]
  },
  {
   "cell_type": "code",
   "execution_count": 21,
   "id": "f0ebf5f1",
   "metadata": {},
   "outputs": [],
   "source": []
  },
  {
   "cell_type": "markdown",
   "id": "46094a6e",
   "metadata": {},
   "source": [
    "### Data types in Pandas"
   ]
  },
  {
   "cell_type": "markdown",
   "id": "49dee12c",
   "metadata": {},
   "source": [
    "| Python         | Pandas             |\n",
    "|----------------|--------------------|\n",
    "|String (`str`)  | Object (`object`)  |\n",
    "|Integer (`int`) | Int64 (`int64`)    |\n",
    "|Float (`float`) | Float64 (`float64`)|\n",
    "|List (`list`)   |$\\approx$ Series (`Series`)   |\n",
    "|                |DataFrames (`DataFrame`)|\n"
   ]
  },
  {
   "cell_type": "markdown",
   "id": "db60b52e",
   "metadata": {},
   "source": [
    "## Filtering data"
   ]
  },
  {
   "cell_type": "markdown",
   "id": "68b602ac",
   "metadata": {},
   "source": [
    "Modify the line below to get a data frame containing only the entries with books by Geronimo Stilton and store the result in a variable called `stilton_df`"
   ]
  },
  {
   "cell_type": "code",
   "execution_count": 29,
   "id": "25b15d8c",
   "metadata": {},
   "outputs": [],
   "source": [
    "nyt_df[nyt_df['author'] == 'Toni Morrison']"
   ]
  }
 ],
 "metadata": {
  "kernelspec": {
   "display_name": "Python 3 (ipykernel)",
   "language": "python",
   "name": "python3"
  },
  "language_info": {
   "codemirror_mode": {
    "name": "ipython",
    "version": 3
   },
   "file_extension": ".py",
   "mimetype": "text/x-python",
   "name": "python",
   "nbconvert_exporter": "python",
   "pygments_lexer": "ipython3",
   "version": "3.10.8"
  }
 },
 "nbformat": 4,
 "nbformat_minor": 5
}

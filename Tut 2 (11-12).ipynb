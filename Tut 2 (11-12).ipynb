{
 "cells": [
  {
   "cell_type": "markdown",
   "id": "615ac4ee",
   "metadata": {},
   "source": [
    "# Variables\n",
    "\n",
    "Variables consist of two pieces of information: a **name** and a **value**. "
   ]
  },
  {
   "cell_type": "code",
   "execution_count": 13,
   "id": "ccf70298",
   "metadata": {},
   "outputs": [],
   "source": [
    "number1 = 5"
   ]
  },
  {
   "cell_type": "markdown",
   "id": "9c25441c",
   "metadata": {},
   "source": [
    "In the above code, we **assign** the value 5 to a variable whose **name** is `number`. This is called an **assignment statement**. Note that an assignment statement does not produce any output. "
   ]
  },
  {
   "cell_type": "markdown",
   "id": "dc1db48f",
   "metadata": {},
   "source": [
    "In an assignment statement, Python evaluates the expression to the right of the `=` before assigning it."
   ]
  },
  {
   "cell_type": "code",
   "execution_count": 14,
   "id": "f1051b43",
   "metadata": {},
   "outputs": [],
   "source": [
    "number2 = 10 * 10"
   ]
  },
  {
   "cell_type": "markdown",
   "id": "9c80749b",
   "metadata": {},
   "source": [
    "To check the contents of a given variable, we can use the function `print`. "
   ]
  },
  {
   "cell_type": "code",
   "execution_count": 15,
   "id": "4996e3bb",
   "metadata": {},
   "outputs": [
    {
     "name": "stdout",
     "output_type": "stream",
     "text": [
      "100\n"
     ]
    }
   ],
   "source": [
    "print(number2)"
   ]
  },
  {
   "cell_type": "markdown",
   "id": "b53356ef",
   "metadata": {},
   "source": [
    "## Word of Caution! Re-assigning Variables\n",
    "\n",
    "Python does not give an error if you try to assign a new value to a variable with an existing name. Make sure you don't accidentally reuse or reassign existing variables!"
   ]
  },
  {
   "cell_type": "markdown",
   "id": "092fa0d5",
   "metadata": {},
   "source": [
    "## Naming Variables\n",
    "Python variables are usually written in \"`snake_case`\" or \"`pothole_case`\", i.e. in all lowercase with underscores separating words. You should try to make sure your variable names are descriptive, so that you can easily keep track of them. `number` isn't generally a good variable name, but `average_words` might be. "
   ]
  },
  {
   "cell_type": "markdown",
   "id": "951e8e9f",
   "metadata": {},
   "source": [
    "## Example/Exercise: Area of a Triangle"
   ]
  },
  {
   "cell_type": "code",
   "execution_count": 20,
   "id": "1ab4cb67",
   "metadata": {},
   "outputs": [],
   "source": [
    "base = 5\n",
    "height = 12\n",
    "area = (base * height) / 2\n",
    "height = 2\n",
    "area = (base * height) / 2"
   ]
  },
  {
   "cell_type": "code",
   "execution_count": 21,
   "id": "ea3293a3",
   "metadata": {},
   "outputs": [
    {
     "name": "stdout",
     "output_type": "stream",
     "text": [
      "5.0\n"
     ]
    }
   ],
   "source": [
    "print(area)"
   ]
  },
  {
   "cell_type": "markdown",
   "id": "7b417202",
   "metadata": {},
   "source": [
    "# Types\n",
    "The main data types we will deal with include \n",
    "- integers `int` (whole numbers)\n",
    "- floats `float` (decimals) \n",
    "- strings `str` (pieces of text) \n",
    "- booleans `bool` (True or False values) "
   ]
  },
  {
   "cell_type": "markdown",
   "id": "88030a09",
   "metadata": {},
   "source": [
    "# Functions\n",
    "\n",
    "You can think of functions as transitive verbs that take an object (as an input) and act on it (to produce an output).\n",
    "\n",
    "A function takes an **argument** as an input and produces an output. The syntax is `function(argument)`. \n",
    "\n",
    "<img src=\"function_machine.png\" width=\"300\">\n",
    "\n",
    "Pro-tip: Python evaluates the arguments before applying the function. "
   ]
  },
  {
   "cell_type": "code",
   "execution_count": 23,
   "id": "37204e24",
   "metadata": {},
   "outputs": [
    {
     "data": {
      "text/plain": [
       "int"
      ]
     },
     "execution_count": 23,
     "metadata": {},
     "output_type": "execute_result"
    }
   ],
   "source": [
    "type(80)"
   ]
  },
  {
   "cell_type": "code",
   "execution_count": 24,
   "id": "7f524f23",
   "metadata": {},
   "outputs": [
    {
     "data": {
      "text/plain": [
       "5"
      ]
     },
     "execution_count": 24,
     "metadata": {},
     "output_type": "execute_result"
    }
   ],
   "source": [
    "max(2, 3, 4, 5)"
   ]
  },
  {
   "cell_type": "code",
   "execution_count": 28,
   "id": "9a244a2d",
   "metadata": {},
   "outputs": [
    {
     "data": {
      "text/plain": [
       "50"
      ]
     },
     "execution_count": 28,
     "metadata": {},
     "output_type": "execute_result"
    }
   ],
   "source": [
    "num1 = 10\n",
    "num2 = 5\n",
    "num3 = 2\n",
    "max(num1 * num2, num2 * num3, num1 + num3)"
   ]
  },
  {
   "cell_type": "code",
   "execution_count": null,
   "id": "ee34a5d2",
   "metadata": {},
   "outputs": [],
   "source": [
    "str()"
   ]
  },
  {
   "cell_type": "markdown",
   "id": "b8d54a4d",
   "metadata": {},
   "source": [
    "# Operators\n",
    "\n"
   ]
  },
  {
   "cell_type": "markdown",
   "id": "dc2a601b",
   "metadata": {},
   "source": [
    "Like functions, operators take inputs and produce outputs. However, the syntax is a bit different. The inputs go on either side of the operator, such as `2 + 2`. \n",
    "\n",
    "We have seen mathematical operators, which take in numbers and output numbers, but the **comparison operators** are also important:\n",
    "- `==`\n",
    "- `!=`\n",
    "- `>`\n",
    "- `<`\n",
    "- `>=`\n",
    "- `<=`\n",
    "\n",
    "It is important to understand the difference between `=` and `==`. `=` is used to assign a variable, but `==` is used to check if two things are the same. \n",
    "\n",
    "An assignment statement with `=` does not produce an output, but a comparison statement with `==` does. \n",
    "\n",
    "As with functions, Python evaluates both sides of the operator before applying the operator. "
   ]
  },
  {
   "cell_type": "code",
   "execution_count": 31,
   "id": "0bc6b34d",
   "metadata": {},
   "outputs": [
    {
     "data": {
      "text/plain": [
       "True"
      ]
     },
     "execution_count": 31,
     "metadata": {},
     "output_type": "execute_result"
    }
   ],
   "source": [
    "name = \"name\"\n",
    "name == \"name\""
   ]
  },
  {
   "cell_type": "code",
   "execution_count": null,
   "id": "054696bf",
   "metadata": {},
   "outputs": [],
   "source": []
  },
  {
   "cell_type": "code",
   "execution_count": 32,
   "id": "d9066028",
   "metadata": {},
   "outputs": [
    {
     "data": {
      "text/plain": [
       "False"
      ]
     },
     "execution_count": 32,
     "metadata": {},
     "output_type": "execute_result"
    }
   ],
   "source": [
    "80 == \"80\""
   ]
  },
  {
   "cell_type": "code",
   "execution_count": 33,
   "id": "7d681742",
   "metadata": {},
   "outputs": [
    {
     "data": {
      "text/plain": [
       "int"
      ]
     },
     "execution_count": 33,
     "metadata": {},
     "output_type": "execute_result"
    }
   ],
   "source": [
    "type(80)"
   ]
  },
  {
   "cell_type": "code",
   "execution_count": 34,
   "id": "f4ef2b7b",
   "metadata": {},
   "outputs": [
    {
     "data": {
      "text/plain": [
       "str"
      ]
     },
     "execution_count": 34,
     "metadata": {},
     "output_type": "execute_result"
    }
   ],
   "source": [
    "type(\"80\")"
   ]
  },
  {
   "cell_type": "code",
   "execution_count": null,
   "id": "dfbc911a",
   "metadata": {},
   "outputs": [],
   "source": [
    "\"star\" == \"star\""
   ]
  },
  {
   "cell_type": "code",
   "execution_count": null,
   "id": "fd97891a",
   "metadata": {},
   "outputs": [],
   "source": [
    "\"star\" >= \"arts\""
   ]
  }
 ],
 "metadata": {
  "kernelspec": {
   "display_name": "Python 3 (ipykernel)",
   "language": "python",
   "name": "python3"
  },
  "language_info": {
   "codemirror_mode": {
    "name": "ipython",
    "version": 3
   },
   "file_extension": ".py",
   "mimetype": "text/x-python",
   "name": "python",
   "nbconvert_exporter": "python",
   "pygments_lexer": "ipython3",
   "version": "3.10.8"
  }
 },
 "nbformat": 4,
 "nbformat_minor": 5
}

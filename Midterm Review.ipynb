{
 "cells": [
  {
   "cell_type": "markdown",
   "id": "77d07f93",
   "metadata": {},
   "source": [
    "# Midterm Review"
   ]
  },
  {
   "cell_type": "markdown",
   "id": "b6065284",
   "metadata": {},
   "source": [
    "## Week 1"
   ]
  },
  {
   "cell_type": "markdown",
   "id": "1917fc69",
   "metadata": {},
   "source": [
    "Describe what the following line of code does."
   ]
  },
  {
   "cell_type": "code",
   "execution_count": 11,
   "id": "3e40846c",
   "metadata": {
    "scrolled": false
   },
   "outputs": [],
   "source": [
    "number = 42"
   ]
  },
  {
   "cell_type": "markdown",
   "id": "a240248b",
   "metadata": {},
   "source": [
    "What are the errors in the following pieces of code?"
   ]
  },
  {
   "cell_type": "code",
   "execution_count": null,
   "id": "76deb431",
   "metadata": {},
   "outputs": [],
   "source": [
    "print (number)"
   ]
  },
  {
   "cell_type": "code",
   "execution_count": null,
   "id": "e58056c6",
   "metadata": {},
   "outputs": [],
   "source": [
    "print[number]"
   ]
  },
  {
   "cell_type": "code",
   "execution_count": null,
   "id": "e0dde8a2",
   "metadata": {},
   "outputs": [],
   "source": [
    "print(numer)"
   ]
  },
  {
   "cell_type": "code",
   "execution_count": null,
   "id": "11905918",
   "metadata": {},
   "outputs": [],
   "source": [
    "prnit(number)"
   ]
  },
  {
   "cell_type": "markdown",
   "id": "0170ac1d",
   "metadata": {},
   "source": [
    "## Week 2"
   ]
  },
  {
   "cell_type": "code",
   "execution_count": 4,
   "id": "f5495f0b",
   "metadata": {},
   "outputs": [],
   "source": [
    "random_list = [3, \"blue\", [\"a\", \"b\", \"c\"], True, [\"up\", \"down\", \"left\", \"right\"], 5.5, \"word\"]"
   ]
  },
  {
   "cell_type": "markdown",
   "id": "145a4128",
   "metadata": {},
   "source": [
    "Predict what each line of code will output."
   ]
  },
  {
   "cell_type": "code",
   "execution_count": null,
   "id": "a02bfe1a",
   "metadata": {},
   "outputs": [],
   "source": [
    "type(random_list[2])"
   ]
  },
  {
   "cell_type": "code",
   "execution_count": null,
   "id": "dade7c4d",
   "metadata": {},
   "outputs": [],
   "source": [
    "type(random_list[2])"
   ]
  },
  {
   "cell_type": "code",
   "execution_count": null,
   "id": "f55b70bf",
   "metadata": {},
   "outputs": [],
   "source": [
    "type(random_list[-1])"
   ]
  },
  {
   "cell_type": "code",
   "execution_count": null,
   "id": "c8f5efe5",
   "metadata": {},
   "outputs": [],
   "source": [
    "len(random_list[4])"
   ]
  },
  {
   "cell_type": "code",
   "execution_count": null,
   "id": "0620dc67",
   "metadata": {},
   "outputs": [],
   "source": [
    "type(random_list[3])"
   ]
  },
  {
   "cell_type": "code",
   "execution_count": 6,
   "id": "e3ec84a0",
   "metadata": {},
   "outputs": [],
   "source": [
    "len(random_list[1])"
   ]
  },
  {
   "cell_type": "markdown",
   "id": "aa31ad15",
   "metadata": {},
   "source": [
    "## Week 3"
   ]
  },
  {
   "cell_type": "markdown",
   "id": "48b4fef3",
   "metadata": {},
   "source": [
    "\"+\" is an operator. It takes two things on either side and outputs a new value."
   ]
  },
  {
   "cell_type": "code",
   "execution_count": null,
   "id": "cf1585a1",
   "metadata": {},
   "outputs": [],
   "source": [
    "2 + 2"
   ]
  },
  {
   "cell_type": "markdown",
   "id": "35b6b77a",
   "metadata": {},
   "source": [
    "`==` is also an operator. What data type does it output? What is the difference between the following two lines of code? "
   ]
  },
  {
   "cell_type": "code",
   "execution_count": null,
   "id": "6804f0d3",
   "metadata": {},
   "outputs": [],
   "source": [
    "number = 20\n",
    "\n",
    "number == 20"
   ]
  },
  {
   "cell_type": "markdown",
   "id": "e1522903",
   "metadata": {},
   "source": [
    "Predict the following outputs."
   ]
  },
  {
   "cell_type": "code",
   "execution_count": null,
   "id": "c6a65107",
   "metadata": {},
   "outputs": [],
   "source": [
    "20 == \"20\""
   ]
  },
  {
   "cell_type": "code",
   "execution_count": null,
   "id": "f47058a2",
   "metadata": {},
   "outputs": [],
   "source": [
    "num1 = 30\n",
    "num2 = 200\n",
    "\n",
    "num1 <= num2"
   ]
  },
  {
   "cell_type": "code",
   "execution_count": null,
   "id": "c93ea3dd",
   "metadata": {},
   "outputs": [],
   "source": [
    "num1 > num2"
   ]
  },
  {
   "cell_type": "code",
   "execution_count": null,
   "id": "5e4e3ccb",
   "metadata": {},
   "outputs": [],
   "source": [
    "num1 != num2"
   ]
  },
  {
   "cell_type": "markdown",
   "id": "043ce718",
   "metadata": {},
   "source": [
    "## Week 4"
   ]
  },
  {
   "cell_type": "markdown",
   "id": "9c4cbde5",
   "metadata": {},
   "source": [
    "The code below has an error. If you can't find it, try running it and looking at what the error message says. Correct it and predict the output."
   ]
  },
  {
   "cell_type": "code",
   "execution_count": 9,
   "id": "0a01e8e9",
   "metadata": {
    "scrolled": true
   },
   "outputs": [],
   "source": [
    "fruits_list = [\"banana\", \"pineapple\", \"coconut\", \"strawberry\", \"watermelon\", \"grape\"]\n",
    "\n",
    "for fruit in fruits_list:\n",
    "print(fruit)"
   ]
  },
  {
   "cell_type": "markdown",
   "id": "f41f03fc",
   "metadata": {},
   "source": [
    "What does the code below do? What number will \"mystery_number\" contain?"
   ]
  },
  {
   "cell_type": "code",
   "execution_count": 10,
   "id": "b1beb0a5",
   "metadata": {},
   "outputs": [],
   "source": [
    "number_list = [1, 2, 3, 4]\n",
    "mystery_number = 0\n",
    "\n",
    "for item in number_list:\n",
    "    mystery_number = mystery_number + item"
   ]
  },
  {
   "cell_type": "markdown",
   "id": "d3a12c9b",
   "metadata": {},
   "source": [
    " What does the list in the new_list variable look like after running the following code?"
   ]
  },
  {
   "cell_type": "code",
   "execution_count": 1,
   "id": "f6c0afc3",
   "metadata": {},
   "outputs": [],
   "source": [
    "list_of_stuff = [\"a\", 42, \"newspaper\", False, [2.71828, 0], 10, [1, 2, 3], \"literature\", 12, \\\n",
    "                 \"word\", [\"mathematics\", \"math\"], 11]\n",
    "\n",
    "new_list = []\n",
    "\n",
    "for item in list_of_stuff: # iterate through list_of_stuff, calling each element in the list \"item\"\n",
    "    if type(item) == int: # check if item is an integer\n",
    "        new_list.append(item) # if the item is an integer, then add it to new_list\n",
    "    elif type(item) == str and len(item) > 4:\n",
    "        new_list.append(item)\n",
    "    elif type(item) == list and type(item[1]) == int:\n",
    "        new_list.append(item)\n"
   ]
  },
  {
   "cell_type": "markdown",
   "id": "0e064e45",
   "metadata": {},
   "source": [
    "What kind of object is `.strip()`? Run the code below, then think about:\n",
    "- What kinds of input does `.strip()` take? \n",
    "- What data type does it return?"
   ]
  },
  {
   "cell_type": "code",
   "execution_count": 3,
   "id": "b3f42d3f",
   "metadata": {},
   "outputs": [],
   "source": [
    "line = \"    This is a line.     \"\n",
    "stripped_line = line.strip()"
   ]
  },
  {
   "cell_type": "markdown",
   "id": "c7c0874e",
   "metadata": {},
   "source": [
    "What kind of object is `.isnumeric()`? Run the code below, then think about:\n",
    "- What kinds of input does `.isnumeric()` take? \n",
    "- What data type does it return?"
   ]
  },
  {
   "cell_type": "code",
   "execution_count": null,
   "id": "c6d3e0e9",
   "metadata": {},
   "outputs": [],
   "source": [
    "string = \"2718281829\"\n",
    "string.isnumeric()"
   ]
  },
  {
   "cell_type": "markdown",
   "id": "3e89ae05",
   "metadata": {},
   "source": [
    "Recall the example from my last tutorial (counting lines in a poem). "
   ]
  },
  {
   "cell_type": "code",
   "execution_count": 10,
   "id": "52734d0a",
   "metadata": {},
   "outputs": [
    {
     "data": {
      "text/plain": [
       "['1',\n",
       " '  I celebrate myself, and sing myself,',\n",
       " '  And what I assume you shall assume,',\n",
       " '  For every atom belonging to me as good belongs to you.',\n",
       " '',\n",
       " '  I loafe and invite my soul,',\n",
       " '  I lean and loafe at my ease observing a spear of summer grass.',\n",
       " '',\n",
       " '  My tongue, every atom of my blood, form’d from this soil, this air,',\n",
       " '  Born here of parents born here from parents the same, and their',\n",
       " '      parents the same,',\n",
       " '  I, now thirty-seven years old in perfect health begin,',\n",
       " '  Hoping to cease not till death.',\n",
       " '',\n",
       " '  Creeds and schools in abeyance,',\n",
       " '  Retiring back a while sufficed at what they are, but never forgotten,',\n",
       " '  I harbor for good or bad, I permit to speak at every hazard,',\n",
       " '  Nature without check with original energy.',\n",
       " '',\n",
       " '       2',\n",
       " '  Houses and rooms are full of perfumes, the shelves are crowded with',\n",
       " '      perfumes,',\n",
       " '  I breathe the fragrance myself and know it and like it,',\n",
       " '  The distillation would intoxicate me also, but I shall not let it.',\n",
       " '',\n",
       " '  The atmosphere is not a perfume, it has no taste of the',\n",
       " '      distillation, it is odorless,',\n",
       " '  It is for my mouth forever, I am in love with it,',\n",
       " '  I will go to the bank by the wood and become undisguised and naked,',\n",
       " '  I am mad for it to be in contact with me.']"
      ]
     },
     "execution_count": 10,
     "metadata": {},
     "output_type": "execute_result"
    }
   ],
   "source": [
    "poem = open(\"song_of_myself.txt\", encoding=\"utf-8\").read()\n",
    "poem_lines = poem.split(\"\\n\")\n",
    "poem_lines[:30]"
   ]
  },
  {
   "cell_type": "markdown",
   "id": "6d852036",
   "metadata": {},
   "source": [
    "What are the three problems with counting lines using `poem_lines`? Try to understand how the following code corrects each problem."
   ]
  },
  {
   "cell_type": "code",
   "execution_count": 4,
   "id": "6936467c",
   "metadata": {},
   "outputs": [],
   "source": [
    "poem_lines_nonempty = []\n",
    "\n",
    "for line in poem_lines:\n",
    "    if line != '':\n",
    "        poem_lines_nonempty.append(line)\n",
    "\n",
    "        \n",
    "poem_lines_no_numbers = []\n",
    "\n",
    "for line in poem_lines_nonempty:\n",
    "    stripped_line = line.strip()\n",
    "    if stripped_line.isnumeric() == False:   # technical note: I can also write this line as \"if not stripped_line.isnumeric()\"\n",
    "        poem_lines_no_numbers.append(line)\n",
    "\n",
    "        \n",
    "poem_lines_final = []\n",
    "\n",
    "for line in poem_lines_no_numbers:\n",
    "    if line[:5] != '     ':\n",
    "        poem_lines_final.append(line)\n",
    "    else:\n",
    "        poem_lines_final[-1] = poem_lines_final[-1] + ' ' + line.strip()"
   ]
  }
 ],
 "metadata": {
  "kernelspec": {
   "display_name": "Python 3 (ipykernel)",
   "language": "python",
   "name": "python3"
  },
  "language_info": {
   "codemirror_mode": {
    "name": "ipython",
    "version": 3
   },
   "file_extension": ".py",
   "mimetype": "text/x-python",
   "name": "python",
   "nbconvert_exporter": "python",
   "pygments_lexer": "ipython3",
   "version": "3.10.8"
  }
 },
 "nbformat": 4,
 "nbformat_minor": 5
}

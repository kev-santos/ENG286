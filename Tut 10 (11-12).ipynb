{
 "cells": [
  {
   "cell_type": "code",
   "execution_count": 1,
   "id": "77295025",
   "metadata": {
    "scrolled": false
   },
   "outputs": [],
   "source": [
    "import pandas as pd\n",
    "\n",
    "checkouts2020_df = pd.read_csv('seattle_checkouts_2020.csv')"
   ]
  },
  {
   "cell_type": "code",
   "execution_count": 2,
   "id": "3aca5857",
   "metadata": {
    "scrolled": true
   },
   "outputs": [
    {
     "data": {
      "text/html": [
       "<div>\n",
       "<style scoped>\n",
       "    .dataframe tbody tr th:only-of-type {\n",
       "        vertical-align: middle;\n",
       "    }\n",
       "\n",
       "    .dataframe tbody tr th {\n",
       "        vertical-align: top;\n",
       "    }\n",
       "\n",
       "    .dataframe thead th {\n",
       "        text-align: right;\n",
       "    }\n",
       "</style>\n",
       "<table border=\"1\" class=\"dataframe\">\n",
       "  <thead>\n",
       "    <tr style=\"text-align: right;\">\n",
       "      <th></th>\n",
       "      <th>UsageClass</th>\n",
       "      <th>CheckoutType</th>\n",
       "      <th>MaterialType</th>\n",
       "      <th>CheckoutYear</th>\n",
       "      <th>CheckoutMonth</th>\n",
       "      <th>Checkouts</th>\n",
       "      <th>Title</th>\n",
       "      <th>ISBN</th>\n",
       "      <th>Creator</th>\n",
       "      <th>Subjects</th>\n",
       "      <th>Publisher</th>\n",
       "      <th>PublicationYear</th>\n",
       "    </tr>\n",
       "  </thead>\n",
       "  <tbody>\n",
       "    <tr>\n",
       "      <th>0</th>\n",
       "      <td>Physical</td>\n",
       "      <td>Horizon</td>\n",
       "      <td>BOOK</td>\n",
       "      <td>2020</td>\n",
       "      <td>8</td>\n",
       "      <td>1</td>\n",
       "      <td>Harvest / Sam Inglis.</td>\n",
       "      <td>NaN</td>\n",
       "      <td>Inglis, Sam</td>\n",
       "      <td>Young Neil 1945 Harvest</td>\n",
       "      <td>Continuum,</td>\n",
       "      <td>2003.</td>\n",
       "    </tr>\n",
       "    <tr>\n",
       "      <th>1</th>\n",
       "      <td>Digital</td>\n",
       "      <td>OverDrive</td>\n",
       "      <td>EBOOK</td>\n",
       "      <td>2020</td>\n",
       "      <td>8</td>\n",
       "      <td>1</td>\n",
       "      <td>The Race Beat</td>\n",
       "      <td>NaN</td>\n",
       "      <td>Gene Roberts</td>\n",
       "      <td>History, Nonfiction, Politics, Sociology</td>\n",
       "      <td>Random House, Inc.</td>\n",
       "      <td>2008</td>\n",
       "    </tr>\n",
       "    <tr>\n",
       "      <th>2</th>\n",
       "      <td>Digital</td>\n",
       "      <td>OverDrive</td>\n",
       "      <td>EBOOK</td>\n",
       "      <td>2020</td>\n",
       "      <td>8</td>\n",
       "      <td>5</td>\n",
       "      <td>I Can Cook Vegan</td>\n",
       "      <td>NaN</td>\n",
       "      <td>Isa Chandra Moskowitz</td>\n",
       "      <td>Cooking &amp; Food, Nonfiction</td>\n",
       "      <td>ABRAMS</td>\n",
       "      <td>2019</td>\n",
       "    </tr>\n",
       "    <tr>\n",
       "      <th>3</th>\n",
       "      <td>Digital</td>\n",
       "      <td>OverDrive</td>\n",
       "      <td>EBOOK</td>\n",
       "      <td>2020</td>\n",
       "      <td>8</td>\n",
       "      <td>1</td>\n",
       "      <td>Follow the Stars Home</td>\n",
       "      <td>NaN</td>\n",
       "      <td>Luanne Rice</td>\n",
       "      <td>Fiction, Romance</td>\n",
       "      <td>Random House, Inc.</td>\n",
       "      <td>2012</td>\n",
       "    </tr>\n",
       "    <tr>\n",
       "      <th>4</th>\n",
       "      <td>Digital</td>\n",
       "      <td>OverDrive</td>\n",
       "      <td>EBOOK</td>\n",
       "      <td>2020</td>\n",
       "      <td>8</td>\n",
       "      <td>1</td>\n",
       "      <td>Blood of Innocence</td>\n",
       "      <td>NaN</td>\n",
       "      <td>Tami Dane</td>\n",
       "      <td>Fantasy, Fiction, Romance</td>\n",
       "      <td>Lightning Source Inc</td>\n",
       "      <td>2012</td>\n",
       "    </tr>\n",
       "    <tr>\n",
       "      <th>...</th>\n",
       "      <td>...</td>\n",
       "      <td>...</td>\n",
       "      <td>...</td>\n",
       "      <td>...</td>\n",
       "      <td>...</td>\n",
       "      <td>...</td>\n",
       "      <td>...</td>\n",
       "      <td>...</td>\n",
       "      <td>...</td>\n",
       "      <td>...</td>\n",
       "      <td>...</td>\n",
       "      <td>...</td>\n",
       "    </tr>\n",
       "    <tr>\n",
       "      <th>1721371</th>\n",
       "      <td>Digital</td>\n",
       "      <td>OverDrive</td>\n",
       "      <td>EBOOK</td>\n",
       "      <td>2020</td>\n",
       "      <td>12</td>\n",
       "      <td>4</td>\n",
       "      <td>Blueberries for Sal</td>\n",
       "      <td>NaN</td>\n",
       "      <td>Robert McCloskey</td>\n",
       "      <td>Juvenile Fiction, Juvenile Literature, Picture...</td>\n",
       "      <td>Penguin Group (USA), Inc.</td>\n",
       "      <td>2014</td>\n",
       "    </tr>\n",
       "    <tr>\n",
       "      <th>1721372</th>\n",
       "      <td>Physical</td>\n",
       "      <td>Horizon</td>\n",
       "      <td>BOOK</td>\n",
       "      <td>2020</td>\n",
       "      <td>12</td>\n",
       "      <td>1</td>\n",
       "      <td>Squad / Mariah MacCarthy.</td>\n",
       "      <td>NaN</td>\n",
       "      <td>MacCarthy, Mariah</td>\n",
       "      <td>Cheerleading Juvenile fiction, Best friends Ju...</td>\n",
       "      <td>Farrar Straus Giroux,</td>\n",
       "      <td>2019.</td>\n",
       "    </tr>\n",
       "    <tr>\n",
       "      <th>1721373</th>\n",
       "      <td>Physical</td>\n",
       "      <td>Horizon</td>\n",
       "      <td>BOOK</td>\n",
       "      <td>2020</td>\n",
       "      <td>12</td>\n",
       "      <td>2</td>\n",
       "      <td>Out of this world : poems and facts about spac...</td>\n",
       "      <td>NaN</td>\n",
       "      <td>Sklansky, Amy E.</td>\n",
       "      <td>Outer space Juvenile poetry, Outer space Juven...</td>\n",
       "      <td>Alfred A. Knopf,</td>\n",
       "      <td>[2012]</td>\n",
       "    </tr>\n",
       "    <tr>\n",
       "      <th>1721374</th>\n",
       "      <td>Physical</td>\n",
       "      <td>Horizon</td>\n",
       "      <td>BOOK</td>\n",
       "      <td>2020</td>\n",
       "      <td>12</td>\n",
       "      <td>5</td>\n",
       "      <td>Ring shout : or, Hunting Ku Kluxes in the end ...</td>\n",
       "      <td>NaN</td>\n",
       "      <td>Clark, P. Djèlí</td>\n",
       "      <td>Ku Klux Klan 1915 Fiction, African Americans G...</td>\n",
       "      <td>Tordotcom,</td>\n",
       "      <td>2020.</td>\n",
       "    </tr>\n",
       "    <tr>\n",
       "      <th>1721375</th>\n",
       "      <td>Physical</td>\n",
       "      <td>Horizon</td>\n",
       "      <td>VIDEODISC</td>\n",
       "      <td>2020</td>\n",
       "      <td>12</td>\n",
       "      <td>1</td>\n",
       "      <td>They call us monsters / a New Artists Alliance...</td>\n",
       "      <td>NaN</td>\n",
       "      <td>NaN</td>\n",
       "      <td>Sylmar Juvenile Hall Sylmar Calif, Juvenile de...</td>\n",
       "      <td>The Orchard,</td>\n",
       "      <td>c2016.</td>\n",
       "    </tr>\n",
       "  </tbody>\n",
       "</table>\n",
       "<p>1721376 rows × 12 columns</p>\n",
       "</div>"
      ],
      "text/plain": [
       "        UsageClass CheckoutType MaterialType  CheckoutYear  CheckoutMonth  \\\n",
       "0         Physical      Horizon         BOOK          2020              8   \n",
       "1          Digital    OverDrive        EBOOK          2020              8   \n",
       "2          Digital    OverDrive        EBOOK          2020              8   \n",
       "3          Digital    OverDrive        EBOOK          2020              8   \n",
       "4          Digital    OverDrive        EBOOK          2020              8   \n",
       "...            ...          ...          ...           ...            ...   \n",
       "1721371    Digital    OverDrive        EBOOK          2020             12   \n",
       "1721372   Physical      Horizon         BOOK          2020             12   \n",
       "1721373   Physical      Horizon         BOOK          2020             12   \n",
       "1721374   Physical      Horizon         BOOK          2020             12   \n",
       "1721375   Physical      Horizon    VIDEODISC          2020             12   \n",
       "\n",
       "         Checkouts                                              Title  ISBN  \\\n",
       "0                1                              Harvest / Sam Inglis.   NaN   \n",
       "1                1                                      The Race Beat   NaN   \n",
       "2                5                                   I Can Cook Vegan   NaN   \n",
       "3                1                              Follow the Stars Home   NaN   \n",
       "4                1                                 Blood of Innocence   NaN   \n",
       "...            ...                                                ...   ...   \n",
       "1721371          4                                Blueberries for Sal   NaN   \n",
       "1721372          1                          Squad / Mariah MacCarthy.   NaN   \n",
       "1721373          2  Out of this world : poems and facts about spac...   NaN   \n",
       "1721374          5  Ring shout : or, Hunting Ku Kluxes in the end ...   NaN   \n",
       "1721375          1  They call us monsters / a New Artists Alliance...   NaN   \n",
       "\n",
       "                       Creator  \\\n",
       "0                  Inglis, Sam   \n",
       "1                 Gene Roberts   \n",
       "2        Isa Chandra Moskowitz   \n",
       "3                  Luanne Rice   \n",
       "4                    Tami Dane   \n",
       "...                        ...   \n",
       "1721371       Robert McCloskey   \n",
       "1721372      MacCarthy, Mariah   \n",
       "1721373       Sklansky, Amy E.   \n",
       "1721374        Clark, P. Djèlí   \n",
       "1721375                    NaN   \n",
       "\n",
       "                                                  Subjects  \\\n",
       "0                                  Young Neil 1945 Harvest   \n",
       "1                 History, Nonfiction, Politics, Sociology   \n",
       "2                               Cooking & Food, Nonfiction   \n",
       "3                                         Fiction, Romance   \n",
       "4                                Fantasy, Fiction, Romance   \n",
       "...                                                    ...   \n",
       "1721371  Juvenile Fiction, Juvenile Literature, Picture...   \n",
       "1721372  Cheerleading Juvenile fiction, Best friends Ju...   \n",
       "1721373  Outer space Juvenile poetry, Outer space Juven...   \n",
       "1721374  Ku Klux Klan 1915 Fiction, African Americans G...   \n",
       "1721375  Sylmar Juvenile Hall Sylmar Calif, Juvenile de...   \n",
       "\n",
       "                         Publisher PublicationYear  \n",
       "0                       Continuum,           2003.  \n",
       "1               Random House, Inc.            2008  \n",
       "2                           ABRAMS            2019  \n",
       "3               Random House, Inc.            2012  \n",
       "4             Lightning Source Inc            2012  \n",
       "...                            ...             ...  \n",
       "1721371  Penguin Group (USA), Inc.            2014  \n",
       "1721372      Farrar Straus Giroux,           2019.  \n",
       "1721373           Alfred A. Knopf,          [2012]  \n",
       "1721374                 Tordotcom,           2020.  \n",
       "1721375               The Orchard,          c2016.  \n",
       "\n",
       "[1721376 rows x 12 columns]"
      ]
     },
     "execution_count": 2,
     "metadata": {},
     "output_type": "execute_result"
    }
   ],
   "source": [
    "checkouts2020_df"
   ]
  },
  {
   "cell_type": "markdown",
   "id": "ea47b96a",
   "metadata": {},
   "source": [
    "# Plotting charts"
   ]
  },
  {
   "cell_type": "markdown",
   "id": "88abac35",
   "metadata": {},
   "source": [
    "Tip: Charts should have a title and axis labels."
   ]
  },
  {
   "cell_type": "code",
   "execution_count": 9,
   "id": "82f00577",
   "metadata": {},
   "outputs": [
    {
     "data": {
      "text/plain": [
       "EBOOK                                         772386\n",
       "BOOK                                          467596\n",
       "AUDIOBOOK                                     317202\n",
       "VIDEODISC                                      88170\n",
       "SOUNDDISC                                      67530\n",
       "REGPRINT                                        2109\n",
       "MUSIC                                           2083\n",
       "VIDEO                                           1819\n",
       "SOUNDDISC, VIDEODISC                             652\n",
       "LARGEPRINT                                       312\n",
       "SOUNDREC                                         301\n",
       "ER                                               274\n",
       "CR                                               268\n",
       "ER, SOUNDDISC                                    152\n",
       "MAP                                              120\n",
       "ER, VIDEODISC                                     97\n",
       "ATLAS                                             76\n",
       "MIXED                                             42\n",
       "VISUAL                                            42\n",
       "UNSPECIFIED                                       29\n",
       "REGPRINT, SOUNDDISC                               17\n",
       "MUSICSNDREC                                       15\n",
       "VIDEOCASS                                         14\n",
       "NOTATEDMUSIC                                       8\n",
       "SOUNDCASS                                          7\n",
       "VIDEOCART                                          7\n",
       "VIDEOREC                                           7\n",
       "MICROFORM                                          5\n",
       "REGPRINT, VIDEOREC                                 5\n",
       "FLASHCARD, SOUNDDISC                               5\n",
       "ER, NONPROJGRAPH                                   4\n",
       "KIT                                                4\n",
       "SOUNDDISC, SOUNDREC                                4\n",
       "ER, PRINT                                          3\n",
       "SOUNDCASS, SOUNDDISC                               2\n",
       "SOUNDDISC, VIDEOCASS                               2\n",
       "PHOTO                                              1\n",
       "ER, VIDEOREC                                       1\n",
       "GLOBE                                              1\n",
       "FLASHCARD                                          1\n",
       "SOUNDCASS, SOUNDDISC, SOUNDREC                     1\n",
       "PICTURE                                            1\n",
       "SOUNDCASS, SOUNDDISC, VIDEOCASS, VIDEODISC         1\n",
       "Name: MaterialType, dtype: int64"
      ]
     },
     "execution_count": 9,
     "metadata": {},
     "output_type": "execute_result"
    }
   ],
   "source": [
    "checkout_types = checkouts2020_df['MaterialType'].value_counts()\n",
    "checkout_types"
   ]
  },
  {
   "cell_type": "code",
   "execution_count": 5,
   "id": "6c5b1e92",
   "metadata": {
    "scrolled": true
   },
   "outputs": [
    {
     "data": {
      "text/plain": [
       "<AxesSubplot: >"
      ]
     },
     "execution_count": 5,
     "metadata": {},
     "output_type": "execute_result"
    },
    {
     "data": {
      "image/png": "[encoded data removed]",
      "text/plain": [
       "<Figure size 700x500 with 1 Axes>"
      ]
     },
     "metadata": {},
     "output_type": "display_data"
    }
   ],
   "source": [
    "checkout_types.plot(kind=\"bar\", figsize=(7,5))"
   ]
  },
  {
   "cell_type": "code",
   "execution_count": 6,
   "id": "878cc11b",
   "metadata": {
    "scrolled": true
   },
   "outputs": [
    {
     "data": {
      "text/plain": [
       "<AxesSubplot: xlabel='Type of material'>"
      ]
     },
     "execution_count": 6,
     "metadata": {},
     "output_type": "execute_result"
    },
    {
     "data": {
      "image/png": "[encoded data removed]",
      "text/plain": [
       "<Figure size 700x500 with 1 Axes>"
      ]
     },
     "metadata": {},
     "output_type": "display_data"
    }
   ],
   "source": [
    "#Let's eliminate the extraneous categories. \n",
    "#We can use the .loc method:\n",
    "filtered_checkout_types = checkout_types.loc[['EBOOK', 'BOOK', 'AUDIOBOOK']]\n",
    "filtered_checkout_types.plot(kind=\"bar\", figsize=(7,5), xlabel='Type of material')"
   ]
  },
  {
   "cell_type": "code",
   "execution_count": 11,
   "id": "71bb640a",
   "metadata": {},
   "outputs": [
    {
     "data": {
      "text/plain": [
       "<AxesSubplot: xlabel='Type of material', ylabel='Number of Checkouts'>"
      ]
     },
     "execution_count": 11,
     "metadata": {},
     "output_type": "execute_result"
    },
    {
     "data": {
      "image/png": "[encoded data removed]",
      "text/plain": [
       "<Figure size 700x500 with 1 Axes>"
      ]
     },
     "metadata": {},
     "output_type": "display_data"
    }
   ],
   "source": [
    "# We can rotate the x-axis labels!\n",
    "filtered_checkout_types.plot(kind=\"bar\", figsize=(7,5), xlabel='Type of material', ylabel = 'Number of Checkouts', rot=360.0)"
   ]
  },
  {
   "cell_type": "markdown",
   "id": "7f7f8345",
   "metadata": {},
   "source": [
    "Plotting bar graphs with multiple categories:"
   ]
  },
  {
   "cell_type": "code",
   "execution_count": 6,
   "id": "c36ad436",
   "metadata": {
    "scrolled": false
   },
   "outputs": [
    {
     "data": {
      "text/html": [
       "<div>\n",
       "<style scoped>\n",
       "    .dataframe tbody tr th:only-of-type {\n",
       "        vertical-align: middle;\n",
       "    }\n",
       "\n",
       "    .dataframe tbody tr th {\n",
       "        vertical-align: top;\n",
       "    }\n",
       "\n",
       "    .dataframe thead th {\n",
       "        text-align: right;\n",
       "    }\n",
       "</style>\n",
       "<table border=\"1\" class=\"dataframe\">\n",
       "  <thead>\n",
       "    <tr style=\"text-align: right;\">\n",
       "      <th>MaterialType</th>\n",
       "      <th>ATLAS</th>\n",
       "      <th>AUDIOBOOK</th>\n",
       "      <th>BOOK</th>\n",
       "      <th>CR</th>\n",
       "      <th>EBOOK</th>\n",
       "      <th>ER</th>\n",
       "      <th>ER, NONPROJGRAPH</th>\n",
       "      <th>ER, PRINT</th>\n",
       "      <th>ER, SOUNDDISC</th>\n",
       "      <th>ER, VIDEODISC</th>\n",
       "      <th>...</th>\n",
       "      <th>SOUNDDISC, VIDEOCASS</th>\n",
       "      <th>SOUNDDISC, VIDEODISC</th>\n",
       "      <th>SOUNDREC</th>\n",
       "      <th>UNSPECIFIED</th>\n",
       "      <th>VIDEO</th>\n",
       "      <th>VIDEOCART</th>\n",
       "      <th>VIDEOCASS</th>\n",
       "      <th>VIDEODISC</th>\n",
       "      <th>VIDEOREC</th>\n",
       "      <th>VISUAL</th>\n",
       "    </tr>\n",
       "    <tr>\n",
       "      <th>CheckoutMonth</th>\n",
       "      <th></th>\n",
       "      <th></th>\n",
       "      <th></th>\n",
       "      <th></th>\n",
       "      <th></th>\n",
       "      <th></th>\n",
       "      <th></th>\n",
       "      <th></th>\n",
       "      <th></th>\n",
       "      <th></th>\n",
       "      <th></th>\n",
       "      <th></th>\n",
       "      <th></th>\n",
       "      <th></th>\n",
       "      <th></th>\n",
       "      <th></th>\n",
       "      <th></th>\n",
       "      <th></th>\n",
       "      <th></th>\n",
       "      <th></th>\n",
       "      <th></th>\n",
       "    </tr>\n",
       "  </thead>\n",
       "  <tbody>\n",
       "    <tr>\n",
       "      <th>1</th>\n",
       "      <td>13</td>\n",
       "      <td>25307</td>\n",
       "      <td>103645</td>\n",
       "      <td>89</td>\n",
       "      <td>55642</td>\n",
       "      <td>67</td>\n",
       "      <td>1</td>\n",
       "      <td>0</td>\n",
       "      <td>31</td>\n",
       "      <td>25</td>\n",
       "      <td>...</td>\n",
       "      <td>0</td>\n",
       "      <td>145</td>\n",
       "      <td>83</td>\n",
       "      <td>5</td>\n",
       "      <td>148</td>\n",
       "      <td>2</td>\n",
       "      <td>6</td>\n",
       "      <td>18888</td>\n",
       "      <td>1</td>\n",
       "      <td>10</td>\n",
       "    </tr>\n",
       "    <tr>\n",
       "      <th>2</th>\n",
       "      <td>19</td>\n",
       "      <td>25202</td>\n",
       "      <td>100713</td>\n",
       "      <td>71</td>\n",
       "      <td>54846</td>\n",
       "      <td>64</td>\n",
       "      <td>1</td>\n",
       "      <td>1</td>\n",
       "      <td>46</td>\n",
       "      <td>21</td>\n",
       "      <td>...</td>\n",
       "      <td>0</td>\n",
       "      <td>153</td>\n",
       "      <td>52</td>\n",
       "      <td>5</td>\n",
       "      <td>115</td>\n",
       "      <td>2</td>\n",
       "      <td>4</td>\n",
       "      <td>18837</td>\n",
       "      <td>1</td>\n",
       "      <td>9</td>\n",
       "    </tr>\n",
       "    <tr>\n",
       "      <th>3</th>\n",
       "      <td>17</td>\n",
       "      <td>25559</td>\n",
       "      <td>84689</td>\n",
       "      <td>51</td>\n",
       "      <td>62678</td>\n",
       "      <td>42</td>\n",
       "      <td>1</td>\n",
       "      <td>1</td>\n",
       "      <td>34</td>\n",
       "      <td>17</td>\n",
       "      <td>...</td>\n",
       "      <td>0</td>\n",
       "      <td>103</td>\n",
       "      <td>64</td>\n",
       "      <td>5</td>\n",
       "      <td>151</td>\n",
       "      <td>2</td>\n",
       "      <td>4</td>\n",
       "      <td>16375</td>\n",
       "      <td>1</td>\n",
       "      <td>7</td>\n",
       "    </tr>\n",
       "    <tr>\n",
       "      <th>4</th>\n",
       "      <td>0</td>\n",
       "      <td>25810</td>\n",
       "      <td>66</td>\n",
       "      <td>0</td>\n",
       "      <td>67548</td>\n",
       "      <td>0</td>\n",
       "      <td>0</td>\n",
       "      <td>0</td>\n",
       "      <td>0</td>\n",
       "      <td>0</td>\n",
       "      <td>...</td>\n",
       "      <td>0</td>\n",
       "      <td>0</td>\n",
       "      <td>0</td>\n",
       "      <td>0</td>\n",
       "      <td>236</td>\n",
       "      <td>0</td>\n",
       "      <td>0</td>\n",
       "      <td>4</td>\n",
       "      <td>0</td>\n",
       "      <td>0</td>\n",
       "    </tr>\n",
       "    <tr>\n",
       "      <th>5</th>\n",
       "      <td>0</td>\n",
       "      <td>26588</td>\n",
       "      <td>87</td>\n",
       "      <td>0</td>\n",
       "      <td>68724</td>\n",
       "      <td>0</td>\n",
       "      <td>0</td>\n",
       "      <td>0</td>\n",
       "      <td>0</td>\n",
       "      <td>0</td>\n",
       "      <td>...</td>\n",
       "      <td>0</td>\n",
       "      <td>0</td>\n",
       "      <td>0</td>\n",
       "      <td>0</td>\n",
       "      <td>177</td>\n",
       "      <td>0</td>\n",
       "      <td>0</td>\n",
       "      <td>3</td>\n",
       "      <td>0</td>\n",
       "      <td>0</td>\n",
       "    </tr>\n",
       "    <tr>\n",
       "      <th>6</th>\n",
       "      <td>0</td>\n",
       "      <td>26198</td>\n",
       "      <td>42</td>\n",
       "      <td>0</td>\n",
       "      <td>67079</td>\n",
       "      <td>0</td>\n",
       "      <td>0</td>\n",
       "      <td>0</td>\n",
       "      <td>0</td>\n",
       "      <td>0</td>\n",
       "      <td>...</td>\n",
       "      <td>0</td>\n",
       "      <td>0</td>\n",
       "      <td>0</td>\n",
       "      <td>0</td>\n",
       "      <td>173</td>\n",
       "      <td>0</td>\n",
       "      <td>0</td>\n",
       "      <td>4</td>\n",
       "      <td>0</td>\n",
       "      <td>0</td>\n",
       "    </tr>\n",
       "    <tr>\n",
       "      <th>7</th>\n",
       "      <td>0</td>\n",
       "      <td>27381</td>\n",
       "      <td>50</td>\n",
       "      <td>0</td>\n",
       "      <td>67741</td>\n",
       "      <td>0</td>\n",
       "      <td>0</td>\n",
       "      <td>0</td>\n",
       "      <td>0</td>\n",
       "      <td>0</td>\n",
       "      <td>...</td>\n",
       "      <td>0</td>\n",
       "      <td>0</td>\n",
       "      <td>0</td>\n",
       "      <td>0</td>\n",
       "      <td>135</td>\n",
       "      <td>0</td>\n",
       "      <td>0</td>\n",
       "      <td>12</td>\n",
       "      <td>0</td>\n",
       "      <td>0</td>\n",
       "    </tr>\n",
       "    <tr>\n",
       "      <th>8</th>\n",
       "      <td>0</td>\n",
       "      <td>27377</td>\n",
       "      <td>6579</td>\n",
       "      <td>2</td>\n",
       "      <td>67137</td>\n",
       "      <td>5</td>\n",
       "      <td>0</td>\n",
       "      <td>0</td>\n",
       "      <td>2</td>\n",
       "      <td>3</td>\n",
       "      <td>...</td>\n",
       "      <td>0</td>\n",
       "      <td>10</td>\n",
       "      <td>2</td>\n",
       "      <td>1</td>\n",
       "      <td>155</td>\n",
       "      <td>0</td>\n",
       "      <td>0</td>\n",
       "      <td>1994</td>\n",
       "      <td>0</td>\n",
       "      <td>1</td>\n",
       "    </tr>\n",
       "    <tr>\n",
       "      <th>9</th>\n",
       "      <td>9</td>\n",
       "      <td>26958</td>\n",
       "      <td>35899</td>\n",
       "      <td>10</td>\n",
       "      <td>66292</td>\n",
       "      <td>20</td>\n",
       "      <td>0</td>\n",
       "      <td>1</td>\n",
       "      <td>16</td>\n",
       "      <td>10</td>\n",
       "      <td>...</td>\n",
       "      <td>0</td>\n",
       "      <td>41</td>\n",
       "      <td>20</td>\n",
       "      <td>2</td>\n",
       "      <td>195</td>\n",
       "      <td>0</td>\n",
       "      <td>0</td>\n",
       "      <td>6389</td>\n",
       "      <td>1</td>\n",
       "      <td>3</td>\n",
       "    </tr>\n",
       "    <tr>\n",
       "      <th>10</th>\n",
       "      <td>8</td>\n",
       "      <td>26674</td>\n",
       "      <td>44669</td>\n",
       "      <td>15</td>\n",
       "      <td>64839</td>\n",
       "      <td>27</td>\n",
       "      <td>0</td>\n",
       "      <td>0</td>\n",
       "      <td>9</td>\n",
       "      <td>5</td>\n",
       "      <td>...</td>\n",
       "      <td>0</td>\n",
       "      <td>59</td>\n",
       "      <td>33</td>\n",
       "      <td>3</td>\n",
       "      <td>135</td>\n",
       "      <td>1</td>\n",
       "      <td>0</td>\n",
       "      <td>7654</td>\n",
       "      <td>1</td>\n",
       "      <td>3</td>\n",
       "    </tr>\n",
       "    <tr>\n",
       "      <th>11</th>\n",
       "      <td>5</td>\n",
       "      <td>26702</td>\n",
       "      <td>42921</td>\n",
       "      <td>12</td>\n",
       "      <td>64627</td>\n",
       "      <td>25</td>\n",
       "      <td>1</td>\n",
       "      <td>0</td>\n",
       "      <td>7</td>\n",
       "      <td>6</td>\n",
       "      <td>...</td>\n",
       "      <td>1</td>\n",
       "      <td>54</td>\n",
       "      <td>18</td>\n",
       "      <td>5</td>\n",
       "      <td>104</td>\n",
       "      <td>0</td>\n",
       "      <td>0</td>\n",
       "      <td>7953</td>\n",
       "      <td>1</td>\n",
       "      <td>2</td>\n",
       "    </tr>\n",
       "    <tr>\n",
       "      <th>12</th>\n",
       "      <td>5</td>\n",
       "      <td>27446</td>\n",
       "      <td>48236</td>\n",
       "      <td>18</td>\n",
       "      <td>65233</td>\n",
       "      <td>24</td>\n",
       "      <td>0</td>\n",
       "      <td>0</td>\n",
       "      <td>7</td>\n",
       "      <td>10</td>\n",
       "      <td>...</td>\n",
       "      <td>1</td>\n",
       "      <td>87</td>\n",
       "      <td>29</td>\n",
       "      <td>3</td>\n",
       "      <td>95</td>\n",
       "      <td>0</td>\n",
       "      <td>0</td>\n",
       "      <td>10057</td>\n",
       "      <td>1</td>\n",
       "      <td>7</td>\n",
       "    </tr>\n",
       "  </tbody>\n",
       "</table>\n",
       "<p>12 rows × 43 columns</p>\n",
       "</div>"
      ],
      "text/plain": [
       "MaterialType   ATLAS  AUDIOBOOK    BOOK  CR  EBOOK  ER  ER, NONPROJGRAPH  \\\n",
       "CheckoutMonth                                                              \n",
       "1                 13      25307  103645  89  55642  67                 1   \n",
       "2                 19      25202  100713  71  54846  64                 1   \n",
       "3                 17      25559   84689  51  62678  42                 1   \n",
       "4                  0      25810      66   0  67548   0                 0   \n",
       "5                  0      26588      87   0  68724   0                 0   \n",
       "6                  0      26198      42   0  67079   0                 0   \n",
       "7                  0      27381      50   0  67741   0                 0   \n",
       "8                  0      27377    6579   2  67137   5                 0   \n",
       "9                  9      26958   35899  10  66292  20                 0   \n",
       "10                 8      26674   44669  15  64839  27                 0   \n",
       "11                 5      26702   42921  12  64627  25                 1   \n",
       "12                 5      27446   48236  18  65233  24                 0   \n",
       "\n",
       "MaterialType   ER, PRINT  ER, SOUNDDISC  ER, VIDEODISC  ...  \\\n",
       "CheckoutMonth                                           ...   \n",
       "1                      0             31             25  ...   \n",
       "2                      1             46             21  ...   \n",
       "3                      1             34             17  ...   \n",
       "4                      0              0              0  ...   \n",
       "5                      0              0              0  ...   \n",
       "6                      0              0              0  ...   \n",
       "7                      0              0              0  ...   \n",
       "8                      0              2              3  ...   \n",
       "9                      1             16             10  ...   \n",
       "10                     0              9              5  ...   \n",
       "11                     0              7              6  ...   \n",
       "12                     0              7             10  ...   \n",
       "\n",
       "MaterialType   SOUNDDISC, VIDEOCASS  SOUNDDISC, VIDEODISC  SOUNDREC  \\\n",
       "CheckoutMonth                                                         \n",
       "1                                 0                   145        83   \n",
       "2                                 0                   153        52   \n",
       "3                                 0                   103        64   \n",
       "4                                 0                     0         0   \n",
       "5                                 0                     0         0   \n",
       "6                                 0                     0         0   \n",
       "7                                 0                     0         0   \n",
       "8                                 0                    10         2   \n",
       "9                                 0                    41        20   \n",
       "10                                0                    59        33   \n",
       "11                                1                    54        18   \n",
       "12                                1                    87        29   \n",
       "\n",
       "MaterialType   UNSPECIFIED  VIDEO  VIDEOCART  VIDEOCASS  VIDEODISC  VIDEOREC  \\\n",
       "CheckoutMonth                                                                  \n",
       "1                        5    148          2          6      18888         1   \n",
       "2                        5    115          2          4      18837         1   \n",
       "3                        5    151          2          4      16375         1   \n",
       "4                        0    236          0          0          4         0   \n",
       "5                        0    177          0          0          3         0   \n",
       "6                        0    173          0          0          4         0   \n",
       "7                        0    135          0          0         12         0   \n",
       "8                        1    155          0          0       1994         0   \n",
       "9                        2    195          0          0       6389         1   \n",
       "10                       3    135          1          0       7654         1   \n",
       "11                       5    104          0          0       7953         1   \n",
       "12                       3     95          0          0      10057         1   \n",
       "\n",
       "MaterialType   VISUAL  \n",
       "CheckoutMonth          \n",
       "1                  10  \n",
       "2                   9  \n",
       "3                   7  \n",
       "4                   0  \n",
       "5                   0  \n",
       "6                   0  \n",
       "7                   0  \n",
       "8                   1  \n",
       "9                   3  \n",
       "10                  3  \n",
       "11                  2  \n",
       "12                  7  \n",
       "\n",
       "[12 rows x 43 columns]"
      ]
     },
     "execution_count": 6,
     "metadata": {},
     "output_type": "execute_result"
    }
   ],
   "source": [
    "checkout_types_per_month_df = checkouts2020_df.groupby(['CheckoutMonth', 'MaterialType']).size().unstack(fill_value=0)\n",
    "checkout_types_per_month_df"
   ]
  },
  {
   "cell_type": "code",
   "execution_count": null,
   "id": "1bd26f35",
   "metadata": {},
   "outputs": [],
   "source": [
    "checkout_types_per_month_df.plot(kind='bar')"
   ]
  },
  {
   "cell_type": "code",
   "execution_count": 14,
   "id": "7aa682e6",
   "metadata": {
    "scrolled": false
   },
   "outputs": [
    {
     "data": {
      "text/plain": [
       "<AxesSubplot: xlabel='CheckoutMonth'>"
      ]
     },
     "execution_count": 14,
     "metadata": {},
     "output_type": "execute_result"
    },
    {
     "data": {
      "image/png": "[encoded data removed]",
      "text/plain": [
       "<Figure size 640x480 with 1 Axes>"
      ]
     },
     "metadata": {},
     "output_type": "display_data"
    }
   ],
   "source": [
    "#Let's isolate the columns we want!\n",
    "checkout_types_per_month_df[['BOOK','AUDIOBOOK', 'EBOOK']].plot(kind='bar', color = ['purple', 'red', 'pink'], legend = {'reverse'})"
   ]
  },
  {
   "cell_type": "code",
   "execution_count": 15,
   "id": "41f9fb47",
   "metadata": {},
   "outputs": [
    {
     "data": {
      "text/plain": [
       "<AxesSubplot: xlabel='CheckoutMonth'>"
      ]
     },
     "execution_count": 15,
     "metadata": {},
     "output_type": "execute_result"
    },
    {
     "data": {
      "image/png": "[encoded data removed]",
      "text/plain": [
       "<Figure size 640x480 with 1 Axes>"
      ]
     },
     "metadata": {},
     "output_type": "display_data"
    }
   ],
   "source": [
    "#What are some advantages or disadvantages of presenting a stacked plot?\n",
    "checkout_types_per_month_df[['BOOK','AUDIOBOOK', 'EBOOK']].plot(kind='bar', color = ['purple', 'red', 'pink'], stacked = True)"
   ]
  },
  {
   "cell_type": "markdown",
   "id": "0f94585d",
   "metadata": {},
   "source": [
    "## Pie plots"
   ]
  },
  {
   "cell_type": "code",
   "execution_count": 3,
   "id": "8463cab3",
   "metadata": {},
   "outputs": [
    {
     "data": {
      "text/html": [
       "<div>\n",
       "<style scoped>\n",
       "    .dataframe tbody tr th:only-of-type {\n",
       "        vertical-align: middle;\n",
       "    }\n",
       "\n",
       "    .dataframe tbody tr th {\n",
       "        vertical-align: top;\n",
       "    }\n",
       "\n",
       "    .dataframe thead th {\n",
       "        text-align: right;\n",
       "    }\n",
       "</style>\n",
       "<table border=\"1\" class=\"dataframe\">\n",
       "  <thead>\n",
       "    <tr style=\"text-align: right;\">\n",
       "      <th></th>\n",
       "      <th>UsageClass</th>\n",
       "      <th>CheckoutType</th>\n",
       "      <th>MaterialType</th>\n",
       "      <th>CheckoutYear</th>\n",
       "      <th>CheckoutMonth</th>\n",
       "      <th>Checkouts</th>\n",
       "      <th>Title</th>\n",
       "      <th>ISBN</th>\n",
       "      <th>Creator</th>\n",
       "      <th>Subjects</th>\n",
       "      <th>Publisher</th>\n",
       "      <th>PublicationYear</th>\n",
       "      <th>Fiction</th>\n",
       "    </tr>\n",
       "  </thead>\n",
       "  <tbody>\n",
       "    <tr>\n",
       "      <th>0</th>\n",
       "      <td>Physical</td>\n",
       "      <td>Horizon</td>\n",
       "      <td>BOOK</td>\n",
       "      <td>2020</td>\n",
       "      <td>8</td>\n",
       "      <td>1</td>\n",
       "      <td>Harvest / Sam Inglis.</td>\n",
       "      <td>NaN</td>\n",
       "      <td>Inglis, Sam</td>\n",
       "      <td>Young Neil 1945 Harvest</td>\n",
       "      <td>Continuum,</td>\n",
       "      <td>2003.</td>\n",
       "      <td>False</td>\n",
       "    </tr>\n",
       "    <tr>\n",
       "      <th>1</th>\n",
       "      <td>Digital</td>\n",
       "      <td>OverDrive</td>\n",
       "      <td>EBOOK</td>\n",
       "      <td>2020</td>\n",
       "      <td>8</td>\n",
       "      <td>1</td>\n",
       "      <td>The Race Beat</td>\n",
       "      <td>NaN</td>\n",
       "      <td>Gene Roberts</td>\n",
       "      <td>History, Nonfiction, Politics, Sociology</td>\n",
       "      <td>Random House, Inc.</td>\n",
       "      <td>2008</td>\n",
       "      <td>False</td>\n",
       "    </tr>\n",
       "    <tr>\n",
       "      <th>2</th>\n",
       "      <td>Digital</td>\n",
       "      <td>OverDrive</td>\n",
       "      <td>EBOOK</td>\n",
       "      <td>2020</td>\n",
       "      <td>8</td>\n",
       "      <td>5</td>\n",
       "      <td>I Can Cook Vegan</td>\n",
       "      <td>NaN</td>\n",
       "      <td>Isa Chandra Moskowitz</td>\n",
       "      <td>Cooking &amp; Food, Nonfiction</td>\n",
       "      <td>ABRAMS</td>\n",
       "      <td>2019</td>\n",
       "      <td>False</td>\n",
       "    </tr>\n",
       "    <tr>\n",
       "      <th>3</th>\n",
       "      <td>Digital</td>\n",
       "      <td>OverDrive</td>\n",
       "      <td>EBOOK</td>\n",
       "      <td>2020</td>\n",
       "      <td>8</td>\n",
       "      <td>1</td>\n",
       "      <td>Follow the Stars Home</td>\n",
       "      <td>NaN</td>\n",
       "      <td>Luanne Rice</td>\n",
       "      <td>Fiction, Romance</td>\n",
       "      <td>Random House, Inc.</td>\n",
       "      <td>2012</td>\n",
       "      <td>True</td>\n",
       "    </tr>\n",
       "    <tr>\n",
       "      <th>4</th>\n",
       "      <td>Digital</td>\n",
       "      <td>OverDrive</td>\n",
       "      <td>EBOOK</td>\n",
       "      <td>2020</td>\n",
       "      <td>8</td>\n",
       "      <td>1</td>\n",
       "      <td>Blood of Innocence</td>\n",
       "      <td>NaN</td>\n",
       "      <td>Tami Dane</td>\n",
       "      <td>Fantasy, Fiction, Romance</td>\n",
       "      <td>Lightning Source Inc</td>\n",
       "      <td>2012</td>\n",
       "      <td>True</td>\n",
       "    </tr>\n",
       "    <tr>\n",
       "      <th>...</th>\n",
       "      <td>...</td>\n",
       "      <td>...</td>\n",
       "      <td>...</td>\n",
       "      <td>...</td>\n",
       "      <td>...</td>\n",
       "      <td>...</td>\n",
       "      <td>...</td>\n",
       "      <td>...</td>\n",
       "      <td>...</td>\n",
       "      <td>...</td>\n",
       "      <td>...</td>\n",
       "      <td>...</td>\n",
       "      <td>...</td>\n",
       "    </tr>\n",
       "    <tr>\n",
       "      <th>1721371</th>\n",
       "      <td>Digital</td>\n",
       "      <td>OverDrive</td>\n",
       "      <td>EBOOK</td>\n",
       "      <td>2020</td>\n",
       "      <td>12</td>\n",
       "      <td>4</td>\n",
       "      <td>Blueberries for Sal</td>\n",
       "      <td>NaN</td>\n",
       "      <td>Robert McCloskey</td>\n",
       "      <td>Juvenile Fiction, Juvenile Literature, Picture...</td>\n",
       "      <td>Penguin Group (USA), Inc.</td>\n",
       "      <td>2014</td>\n",
       "      <td>True</td>\n",
       "    </tr>\n",
       "    <tr>\n",
       "      <th>1721372</th>\n",
       "      <td>Physical</td>\n",
       "      <td>Horizon</td>\n",
       "      <td>BOOK</td>\n",
       "      <td>2020</td>\n",
       "      <td>12</td>\n",
       "      <td>1</td>\n",
       "      <td>Squad / Mariah MacCarthy.</td>\n",
       "      <td>NaN</td>\n",
       "      <td>MacCarthy, Mariah</td>\n",
       "      <td>Cheerleading Juvenile fiction, Best friends Ju...</td>\n",
       "      <td>Farrar Straus Giroux,</td>\n",
       "      <td>2019.</td>\n",
       "      <td>True</td>\n",
       "    </tr>\n",
       "    <tr>\n",
       "      <th>1721373</th>\n",
       "      <td>Physical</td>\n",
       "      <td>Horizon</td>\n",
       "      <td>BOOK</td>\n",
       "      <td>2020</td>\n",
       "      <td>12</td>\n",
       "      <td>2</td>\n",
       "      <td>Out of this world : poems and facts about spac...</td>\n",
       "      <td>NaN</td>\n",
       "      <td>Sklansky, Amy E.</td>\n",
       "      <td>Outer space Juvenile poetry, Outer space Juven...</td>\n",
       "      <td>Alfred A. Knopf,</td>\n",
       "      <td>[2012]</td>\n",
       "      <td>False</td>\n",
       "    </tr>\n",
       "    <tr>\n",
       "      <th>1721374</th>\n",
       "      <td>Physical</td>\n",
       "      <td>Horizon</td>\n",
       "      <td>BOOK</td>\n",
       "      <td>2020</td>\n",
       "      <td>12</td>\n",
       "      <td>5</td>\n",
       "      <td>Ring shout : or, Hunting Ku Kluxes in the end ...</td>\n",
       "      <td>NaN</td>\n",
       "      <td>Clark, P. Djèlí</td>\n",
       "      <td>Ku Klux Klan 1915 Fiction, African Americans G...</td>\n",
       "      <td>Tordotcom,</td>\n",
       "      <td>2020.</td>\n",
       "      <td>True</td>\n",
       "    </tr>\n",
       "    <tr>\n",
       "      <th>1721375</th>\n",
       "      <td>Physical</td>\n",
       "      <td>Horizon</td>\n",
       "      <td>VIDEODISC</td>\n",
       "      <td>2020</td>\n",
       "      <td>12</td>\n",
       "      <td>1</td>\n",
       "      <td>They call us monsters / a New Artists Alliance...</td>\n",
       "      <td>NaN</td>\n",
       "      <td>NaN</td>\n",
       "      <td>Sylmar Juvenile Hall Sylmar Calif, Juvenile de...</td>\n",
       "      <td>The Orchard,</td>\n",
       "      <td>c2016.</td>\n",
       "      <td>False</td>\n",
       "    </tr>\n",
       "  </tbody>\n",
       "</table>\n",
       "<p>1721376 rows × 13 columns</p>\n",
       "</div>"
      ],
      "text/plain": [
       "        UsageClass CheckoutType MaterialType  CheckoutYear  CheckoutMonth  \\\n",
       "0         Physical      Horizon         BOOK          2020              8   \n",
       "1          Digital    OverDrive        EBOOK          2020              8   \n",
       "2          Digital    OverDrive        EBOOK          2020              8   \n",
       "3          Digital    OverDrive        EBOOK          2020              8   \n",
       "4          Digital    OverDrive        EBOOK          2020              8   \n",
       "...            ...          ...          ...           ...            ...   \n",
       "1721371    Digital    OverDrive        EBOOK          2020             12   \n",
       "1721372   Physical      Horizon         BOOK          2020             12   \n",
       "1721373   Physical      Horizon         BOOK          2020             12   \n",
       "1721374   Physical      Horizon         BOOK          2020             12   \n",
       "1721375   Physical      Horizon    VIDEODISC          2020             12   \n",
       "\n",
       "         Checkouts                                              Title  ISBN  \\\n",
       "0                1                              Harvest / Sam Inglis.   NaN   \n",
       "1                1                                      The Race Beat   NaN   \n",
       "2                5                                   I Can Cook Vegan   NaN   \n",
       "3                1                              Follow the Stars Home   NaN   \n",
       "4                1                                 Blood of Innocence   NaN   \n",
       "...            ...                                                ...   ...   \n",
       "1721371          4                                Blueberries for Sal   NaN   \n",
       "1721372          1                          Squad / Mariah MacCarthy.   NaN   \n",
       "1721373          2  Out of this world : poems and facts about spac...   NaN   \n",
       "1721374          5  Ring shout : or, Hunting Ku Kluxes in the end ...   NaN   \n",
       "1721375          1  They call us monsters / a New Artists Alliance...   NaN   \n",
       "\n",
       "                       Creator  \\\n",
       "0                  Inglis, Sam   \n",
       "1                 Gene Roberts   \n",
       "2        Isa Chandra Moskowitz   \n",
       "3                  Luanne Rice   \n",
       "4                    Tami Dane   \n",
       "...                        ...   \n",
       "1721371       Robert McCloskey   \n",
       "1721372      MacCarthy, Mariah   \n",
       "1721373       Sklansky, Amy E.   \n",
       "1721374        Clark, P. Djèlí   \n",
       "1721375                    NaN   \n",
       "\n",
       "                                                  Subjects  \\\n",
       "0                                  Young Neil 1945 Harvest   \n",
       "1                 History, Nonfiction, Politics, Sociology   \n",
       "2                               Cooking & Food, Nonfiction   \n",
       "3                                         Fiction, Romance   \n",
       "4                                Fantasy, Fiction, Romance   \n",
       "...                                                    ...   \n",
       "1721371  Juvenile Fiction, Juvenile Literature, Picture...   \n",
       "1721372  Cheerleading Juvenile fiction, Best friends Ju...   \n",
       "1721373  Outer space Juvenile poetry, Outer space Juven...   \n",
       "1721374  Ku Klux Klan 1915 Fiction, African Americans G...   \n",
       "1721375  Sylmar Juvenile Hall Sylmar Calif, Juvenile de...   \n",
       "\n",
       "                         Publisher PublicationYear Fiction  \n",
       "0                       Continuum,           2003.   False  \n",
       "1               Random House, Inc.            2008   False  \n",
       "2                           ABRAMS            2019   False  \n",
       "3               Random House, Inc.            2012    True  \n",
       "4             Lightning Source Inc            2012    True  \n",
       "...                            ...             ...     ...  \n",
       "1721371  Penguin Group (USA), Inc.            2014    True  \n",
       "1721372      Farrar Straus Giroux,           2019.    True  \n",
       "1721373           Alfred A. Knopf,          [2012]   False  \n",
       "1721374                 Tordotcom,           2020.    True  \n",
       "1721375               The Orchard,          c2016.   False  \n",
       "\n",
       "[1721376 rows x 13 columns]"
      ]
     },
     "execution_count": 3,
     "metadata": {},
     "output_type": "execute_result"
    }
   ],
   "source": [
    "checkouts2020_df['Fiction'] = checkouts2020_df['Subjects'].str.contains('Fiction')\n",
    "checkouts2020_df"
   ]
  },
  {
   "cell_type": "code",
   "execution_count": 17,
   "id": "2682f6d6",
   "metadata": {
    "scrolled": false
   },
   "outputs": [
    {
     "data": {
      "text/plain": [
       "<AxesSubplot: ylabel='Fiction'>"
      ]
     },
     "execution_count": 17,
     "metadata": {},
     "output_type": "execute_result"
    },
    {
     "data": {
      "image/png": "[encoded data removed]",
      "text/plain": [
       "<Figure size 640x480 with 1 Axes>"
      ]
     },
     "metadata": {},
     "output_type": "display_data"
    }
   ],
   "source": [
    "checkouts2020_df['Fiction'].value_counts().plot(kind=\"pie\")"
   ]
  },
  {
   "cell_type": "markdown",
   "id": "3b7e86e7",
   "metadata": {},
   "source": [
    "## Line plots"
   ]
  },
  {
   "cell_type": "code",
   "execution_count": 4,
   "id": "cd0c8aba",
   "metadata": {
    "scrolled": false
   },
   "outputs": [
    {
     "data": {
      "text/plain": [
       "<AxesSubplot: xlabel='CheckoutMonth'>"
      ]
     },
     "execution_count": 4,
     "metadata": {},
     "output_type": "execute_result"
    },
    {
     "data": {
      "image/png": "[encoded data removed]",
      "text/plain": [
       "<Figure size 640x480 with 1 Axes>"
      ]
     },
     "metadata": {},
     "output_type": "display_data"
    }
   ],
   "source": [
    "checkouts_fiction_per_month_df = checkouts2020_df.groupby(['CheckoutMonth', 'Fiction']).size().unstack()\n",
    "checkouts_fiction_per_month_df.plot(kind='line', xticks=[1,2,3,4,5,6,7,8,9,10,11,12])"
   ]
  },
  {
   "cell_type": "code",
   "execution_count": 7,
   "id": "11ead293",
   "metadata": {},
   "outputs": [
    {
     "data": {
      "text/plain": [
       "<AxesSubplot: xlabel='CheckoutMonth'>"
      ]
     },
     "execution_count": 7,
     "metadata": {},
     "output_type": "execute_result"
    },
    {
     "data": {
      "image/png": "[encoded data removed]",
      "text/plain": [
       "<Figure size 640x480 with 1 Axes>"
      ]
     },
     "metadata": {},
     "output_type": "display_data"
    }
   ],
   "source": [
    "#We can also isolate certain categories we want.\n",
    "checkout_types_per_month_df[['BOOK']].plot(kind='line')"
   ]
  },
  {
   "cell_type": "markdown",
   "id": "c15f3fc2",
   "metadata": {},
   "source": [
    "# Python dictionaries"
   ]
  },
  {
   "cell_type": "markdown",
   "id": "fa716c2c",
   "metadata": {},
   "source": [
    "```\n",
    "variable_name = {\n",
    "   'key1': value1,\n",
    "   'key2': value2,\n",
    "   'key3': value3,\n",
    "}\n",
    "```\n",
    "\n",
    "Note:\n",
    "- Keys are `string`s; values can be of any data type.\n",
    "- Note that a `,` comes between each key-value pair your define\n",
    "- You don't need to arrange things like this typographically, with key-values pairs each on their own line, but it does make things look prettier\n",
    "- **Order** does not matter in dictionaries, only the key"
   ]
  },
  {
   "cell_type": "code",
   "execution_count": 10,
   "id": "f3ed6e57",
   "metadata": {},
   "outputs": [
    {
     "data": {
      "text/plain": [
       "'cucumber'"
      ]
     },
     "execution_count": 10,
     "metadata": {},
     "output_type": "execute_result"
    }
   ],
   "source": [
    "#How do lists and dictionaries differ?\n",
    "\n",
    "#We index lists using numbers.\n",
    "veg_list = ['cucumber', 'cabbage', 'onion', 'tomato']\n",
    "veg_list[0]"
   ]
  },
  {
   "cell_type": "code",
   "execution_count": 11,
   "id": "958ed440",
   "metadata": {
    "scrolled": true
   },
   "outputs": [
    {
     "data": {
      "text/plain": [
       "8"
      ]
     },
     "execution_count": 11,
     "metadata": {},
     "output_type": "execute_result"
    }
   ],
   "source": [
    "#However, we index dictionaries using keys.\n",
    "\n",
    "veg_dict = {\n",
    "    'cucumber': 8,\n",
    "    'cabbage': 7,\n",
    "    'onion': 5,\n",
    "    'tomato': 6,\n",
    "    'radish': 6\n",
    "}\n",
    "\n",
    "veg_dict['cucumber']"
   ]
  },
  {
   "cell_type": "code",
   "execution_count": 12,
   "id": "9a7f1681",
   "metadata": {
    "scrolled": true
   },
   "outputs": [
    {
     "data": {
      "text/plain": [
       "dict_keys(['cucumber', 'cabbage', 'onion', 'tomato', 'radish'])"
      ]
     },
     "execution_count": 12,
     "metadata": {},
     "output_type": "execute_result"
    }
   ],
   "source": [
    "#What is the input for the .keys() method? The method outputs a list. What does the list contain?\n",
    "veg_dict.keys()"
   ]
  },
  {
   "cell_type": "code",
   "execution_count": 13,
   "id": "de4ef0df",
   "metadata": {
    "scrolled": true
   },
   "outputs": [
    {
     "data": {
      "text/plain": [
       "dict_values([8, 7, 5, 6, 6])"
      ]
     },
     "execution_count": 13,
     "metadata": {},
     "output_type": "execute_result"
    }
   ],
   "source": [
    "#What is the input for the .keys() method? What does the method output?\n",
    "veg_dict.values()"
   ]
  },
  {
   "cell_type": "markdown",
   "id": "ccaff958",
   "metadata": {},
   "source": [
    "## Making a pandas DataFrame from a dictionary"
   ]
  },
  {
   "cell_type": "code",
   "execution_count": null,
   "id": "36056d7d",
   "metadata": {
    "scrolled": true
   },
   "outputs": [],
   "source": [
    "import pandas as pd\n",
    "name_list = [\"apple\", \"banana\", \"blueberry\", \"mango\", \"avocado\", \"grape\"]\n",
    "name_length_list = [5, 6, 9, 5, 7, 5]\n",
    "colour_list = [\"red\", \"yellow\", \"blue\", \"orange\", \"green\", \"purple\"]\n",
    "\n",
    "fruits_df = pd.DataFrame({\n",
    "    'Name': name_list,\n",
    "    'Name Length': name_length_list,\n",
    "    'Colour': colour_list\n",
    "})\n",
    "fruits_df"
   ]
  },
  {
   "cell_type": "code",
   "execution_count": null,
   "id": "bf35791e",
   "metadata": {},
   "outputs": [],
   "source": [
    "#What happens if we try to break it?\n",
    "name_list = [\"apple\", \"banana\", \"blueberry\", \"mango\", \"avocado\", \"grape\"]\n",
    "name_length_list = [5, 6, 9, 5, 7, 5, 5, 7, 5]\n",
    "colour_list = [\"red\", \"yellow\", \"blue\", \"orange\", \"green\", \"purple\"]\n",
    "\n",
    "fruits_df = pd.DataFrame({\n",
    "    'Name': name_list,\n",
    "    'Name Length': name_length_list,\n",
    "    'Colour': colour_list\n",
    "})\n",
    "fruits_df"
   ]
  },
  {
   "cell_type": "markdown",
   "id": "bfe0305b",
   "metadata": {},
   "source": [
    "# Sentiment analysis"
   ]
  },
  {
   "cell_type": "markdown",
   "id": "c7d1b158",
   "metadata": {},
   "source": [
    "## Polarity"
   ]
  },
  {
   "cell_type": "code",
   "execution_count": 19,
   "id": "5aad3b5b",
   "metadata": {},
   "outputs": [],
   "source": [
    "from textblob import TextBlob"
   ]
  },
  {
   "cell_type": "code",
   "execution_count": 20,
   "id": "c7cd2d2f",
   "metadata": {},
   "outputs": [],
   "source": [
    "whitman_sentence = \"I celebrate myself, and sing myself, \\\n",
    "         And what I assume you shall assume, \\\n",
    "         For every atom belonging to me as good belongs to you.\""
   ]
  },
  {
   "cell_type": "code",
   "execution_count": 21,
   "id": "7947154b",
   "metadata": {},
   "outputs": [],
   "source": [
    "whitman_sentence_blob = TextBlob(\"I celebrate myself, and sing myself, \\\n",
    "         And what I assume you shall assume, \\\n",
    "         For every atom belonging to me as good belongs to you.\")"
   ]
  },
  {
   "cell_type": "code",
   "execution_count": 22,
   "id": "22b2cbd2",
   "metadata": {},
   "outputs": [
    {
     "ename": "AttributeError",
     "evalue": "'str' object has no attribute 'polarity'",
     "output_type": "error",
     "traceback": [
      "\u001b[0;31m---------------------------------------------------------------------------\u001b[0m",
      "\u001b[0;31mAttributeError\u001b[0m                            Traceback (most recent call last)",
      "Cell \u001b[0;32mIn[22], line 2\u001b[0m\n\u001b[1;32m      1\u001b[0m \u001b[38;5;66;03m#Why does this not work?\u001b[39;00m\n\u001b[0;32m----> 2\u001b[0m \u001b[43mwhitman_sentence\u001b[49m\u001b[38;5;241;43m.\u001b[39;49m\u001b[43mpolarity\u001b[49m\n",
      "\u001b[0;31mAttributeError\u001b[0m: 'str' object has no attribute 'polarity'"
     ]
    }
   ],
   "source": [
    "#Why does this not work?\n",
    "whitman_sentence.polarity"
   ]
  },
  {
   "cell_type": "code",
   "execution_count": 23,
   "id": "58414b40",
   "metadata": {},
   "outputs": [
    {
     "data": {
      "text/plain": [
       "0.7"
      ]
     },
     "execution_count": 23,
     "metadata": {},
     "output_type": "execute_result"
    }
   ],
   "source": [
    "whitman_sentence_blob.polarity"
   ]
  },
  {
   "cell_type": "code",
   "execution_count": 40,
   "id": "733520ba",
   "metadata": {},
   "outputs": [
    {
     "name": "stdout",
     "output_type": "stream",
     "text": [
      "0.0\n",
      "0.0\n",
      "0.0\n",
      "0.0\n",
      "0.0\n",
      "0.0\n",
      "0.0\n",
      "0.0\n",
      "0.0\n",
      "0.0\n",
      "0.0\n",
      "0.0\n",
      "0.0\n",
      "0.0\n",
      "0.0\n",
      "0.0\n",
      "0.0\n",
      "0.0\n",
      "0.0\n",
      "0.0\n",
      "0.0\n",
      "0.0\n",
      "0.0\n",
      "0.0\n",
      "0.0\n",
      "0.0\n",
      "0.0\n",
      "0.0\n",
      "0.0\n",
      "0.0\n",
      "0.0\n",
      "0.0\n",
      "0.0\n",
      "0.0\n",
      "0.0\n",
      "0.0\n",
      "0.0\n",
      "0.0\n",
      "0.7\n",
      "0.0\n",
      "0.0\n",
      "0.0\n"
     ]
    }
   ],
   "source": [
    "#Where does this 0.7 come from?\n",
    "for word in whitman_sentence.split(\" \"):\n",
    "    print(TextBlob(word).polarity)"
   ]
  },
  {
   "cell_type": "code",
   "execution_count": 45,
   "id": "71afdace",
   "metadata": {},
   "outputs": [
    {
     "data": {
      "text/plain": [
       "0.8"
      ]
     },
     "execution_count": 45,
     "metadata": {},
     "output_type": "execute_result"
    }
   ],
   "source": [
    "TextBlob(\"happy\").polarity"
   ]
  },
  {
   "cell_type": "code",
   "execution_count": 25,
   "id": "aaa7e0b3",
   "metadata": {
    "scrolled": true
   },
   "outputs": [
    {
     "data": {
      "text/plain": [
       "-1.0"
      ]
     },
     "execution_count": 25,
     "metadata": {},
     "output_type": "execute_result"
    }
   ],
   "source": [
    "TextBlob(\"horrible\").polarity"
   ]
  },
  {
   "cell_type": "code",
   "execution_count": 27,
   "id": "7f0cac13",
   "metadata": {
    "scrolled": true
   },
   "outputs": [
    {
     "data": {
      "text/plain": [
       "-0.09999999999999998"
      ]
     },
     "execution_count": 27,
     "metadata": {},
     "output_type": "execute_result"
    }
   ],
   "source": [
    "TextBlob(\"happy horrible\").polarity\n",
    "#-0.1\n",
    "#TextBlob takes the average of the polarity values of the words! In this case, (0.8+(-1.0))/2=-0.1 ."
   ]
  },
  {
   "cell_type": "code",
   "execution_count": 29,
   "id": "56a1b660",
   "metadata": {
    "scrolled": true
   },
   "outputs": [
    {
     "data": {
      "text/plain": [
       "0.0"
      ]
     },
     "execution_count": 29,
     "metadata": {},
     "output_type": "execute_result"
    }
   ],
   "source": [
    "#Try to think of a word that will give a polarity of 0.\n",
    "TextBlob(\"blank\").polarity"
   ]
  },
  {
   "cell_type": "code",
   "execution_count": 30,
   "id": "dbdb8a2f",
   "metadata": {},
   "outputs": [
    {
     "data": {
      "text/plain": [
       "0.0"
      ]
     },
     "execution_count": 30,
     "metadata": {},
     "output_type": "execute_result"
    }
   ],
   "source": [
    "TextBlob(\"the\").polarity"
   ]
  },
  {
   "cell_type": "code",
   "execution_count": 41,
   "id": "1ed65dcb",
   "metadata": {
    "scrolled": true
   },
   "outputs": [
    {
     "data": {
      "text/plain": [
       "0.4"
      ]
     },
     "execution_count": 41,
     "metadata": {},
     "output_type": "execute_result"
    }
   ],
   "source": [
    "#How do 0-polarity words affect the output?\n",
    "TextBlob(\"the horrible happy blank\").polarity"
   ]
  },
  {
   "cell_type": "code",
   "execution_count": 36,
   "id": "82d89577",
   "metadata": {},
   "outputs": [
    {
     "data": {
      "text/plain": [
       "-0.09999999999999998"
      ]
     },
     "execution_count": 36,
     "metadata": {},
     "output_type": "execute_result"
    }
   ],
   "source": [
    "TextBlob(\"the and couch horrible happy\").polarity"
   ]
  },
  {
   "cell_type": "code",
   "execution_count": 37,
   "id": "4482ed81",
   "metadata": {},
   "outputs": [
    {
     "data": {
      "text/plain": [
       "0.0"
      ]
     },
     "execution_count": 37,
     "metadata": {},
     "output_type": "execute_result"
    }
   ],
   "source": [
    "#What happens with negations?\n",
    "TextBlob(\"not\").polarity"
   ]
  },
  {
   "cell_type": "code",
   "execution_count": 39,
   "id": "5996c380",
   "metadata": {
    "scrolled": true
   },
   "outputs": [
    {
     "data": {
      "text/plain": [
       "-0.4"
      ]
     },
     "execution_count": 39,
     "metadata": {},
     "output_type": "execute_result"
    }
   ],
   "source": [
    "TextBlob(\"not not happy\").polarity"
   ]
  },
  {
   "cell_type": "markdown",
   "id": "dde22b54",
   "metadata": {},
   "source": [
    "## Using TextBlob methods"
   ]
  },
  {
   "cell_type": "code",
   "execution_count": null,
   "id": "8f662d26",
   "metadata": {},
   "outputs": [],
   "source": [
    "whitman = open(\"song_of_myself.txt\", encoding=\"utf-8\").read()"
   ]
  },
  {
   "cell_type": "code",
   "execution_count": null,
   "id": "87bdda0a",
   "metadata": {},
   "outputs": [],
   "source": [
    "from textblob import TextBlob\n",
    "whitman_blob = TextBlob(whitman)"
   ]
  },
  {
   "cell_type": "code",
   "execution_count": null,
   "id": "b1035f39",
   "metadata": {
    "scrolled": true
   },
   "outputs": [],
   "source": [
    "whitman_blob.words[:30]"
   ]
  },
  {
   "cell_type": "code",
   "execution_count": null,
   "id": "518987b7",
   "metadata": {},
   "outputs": [],
   "source": [
    "whitman_sentences = []\n",
    "whitman_polarities = []\n",
    "whitman_subjectivities = []\n",
    "\n",
    "whitman_sentences_blob = whitman_blob.sentences\n",
    "\n",
    "for sentence in whitman_sentences_blob:\n",
    "    whitman_sentences.append(' '.join(sentence.words))\n",
    "    whitman_polarities.append(sentence.polarity)\n",
    "    whitman_subjectivities.append(sentence.subjectivity)"
   ]
  },
  {
   "cell_type": "code",
   "execution_count": null,
   "id": "77ce51fc",
   "metadata": {},
   "outputs": [],
   "source": [
    "whitman_blob.sentiment"
   ]
  },
  {
   "cell_type": "code",
   "execution_count": null,
   "id": "9a199f9e",
   "metadata": {},
   "outputs": [],
   "source": [
    "import pandas as pd\n",
    "whitman_df = pd.DataFrame({\n",
    "    'sentence': whitman_sentences,\n",
    "    'polarity': whitman_polarities,\n",
    "    'subjectivity': whitman_subjectivities\n",
    "})\n",
    "\n",
    "pd.set_option('display.max_colwidth', 0)\n",
    "whitman_df.sort_values(by='polarity', ascending =False)"
   ]
  },
  {
   "cell_type": "code",
   "execution_count": null,
   "id": "05ee59d9",
   "metadata": {},
   "outputs": [],
   "source": [
    "whitman_df[['polarity']].plot(kind='line', figsize=(10,5))"
   ]
  },
  {
   "cell_type": "code",
   "execution_count": null,
   "id": "a3ebf49e",
   "metadata": {},
   "outputs": [],
   "source": [
    "#How can we use this to calculate a TTR?\n",
    "whitman_blob.word_counts"
   ]
  }
 ],
 "metadata": {
  "kernelspec": {
   "display_name": "Python 3 (ipykernel)",
   "language": "python",
   "name": "python3"
  },
  "language_info": {
   "codemirror_mode": {
    "name": "ipython",
    "version": 3
   },
   "file_extension": ".py",
   "mimetype": "text/x-python",
   "name": "python",
   "nbconvert_exporter": "python",
   "pygments_lexer": "ipython3",
   "version": "3.10.8"
  }
 },
 "nbformat": 4,
 "nbformat_minor": 5
}
